{
 "cells": [
  {
   "cell_type": "code",
   "execution_count": 1,
   "id": "c35e75ad",
   "metadata": {
    "_cell_guid": "ea570fa0-f3ba-49ba-86e7-f8ae0cc9b1a2",
    "_uuid": "ea97614c-0176-4374-9030-c4c3e4927682",
    "collapsed": false,
    "execution": {
     "iopub.execute_input": "2023-02-09T08:52:53.096227Z",
     "iopub.status.busy": "2023-02-09T08:52:53.095395Z",
     "iopub.status.idle": "2023-02-09T08:53:20.444557Z",
     "shell.execute_reply": "2023-02-09T08:53:20.443299Z"
    },
    "id": "XoEiMOoTIGOb",
    "jupyter": {
     "outputs_hidden": false
    },
    "outputId": "54a08033-6d26-4b91-a0c9-decde5c6d602",
    "papermill": {
     "duration": 27.36348,
     "end_time": "2023-02-09T08:53:20.447257",
     "exception": false,
     "start_time": "2023-02-09T08:52:53.083777",
     "status": "completed"
    },
    "tags": []
   },
   "outputs": [
    {
     "name": "stdout",
     "output_type": "stream",
     "text": [
      "Collecting spacy_transformers\r\n",
      "  Downloading spacy_transformers-1.2.1-cp37-cp37m-manylinux_2_17_x86_64.manylinux2014_x86_64.whl (189 kB)\r\n",
      "\u001b[2K     \u001b[90m━━━━━━━━━━━━━━━━━━━━━━━━━━━━━━━━━━━━━━━\u001b[0m \u001b[32m189.0/189.0 kB\u001b[0m \u001b[31m4.9 MB/s\u001b[0m eta \u001b[36m0:00:00\u001b[0m\r\n",
      "\u001b[?25hRequirement already satisfied: transformers<4.27.0,>=3.4.0 in /opt/conda/lib/python3.7/site-packages (from spacy_transformers) (4.20.1)\r\n",
      "Collecting spacy-alignments<1.0.0,>=0.7.2\r\n",
      "  Downloading spacy_alignments-0.9.0-cp37-cp37m-manylinux_2_17_x86_64.manylinux2014_x86_64.whl (1.2 MB)\r\n",
      "\u001b[2K     \u001b[90m━━━━━━━━━━━━━━━━━━━━━━━━━━━━━━━━━━━━━━━━\u001b[0m \u001b[32m1.2/1.2 MB\u001b[0m \u001b[31m27.5 MB/s\u001b[0m eta \u001b[36m0:00:00\u001b[0m\r\n",
      "\u001b[?25hRequirement already satisfied: srsly<3.0.0,>=2.4.0 in /opt/conda/lib/python3.7/site-packages (from spacy_transformers) (2.4.5)\r\n",
      "Requirement already satisfied: numpy>=1.15.0 in /opt/conda/lib/python3.7/site-packages (from spacy_transformers) (1.21.6)\r\n",
      "Collecting spacy<4.0.0,>=3.4.0\r\n",
      "  Downloading spacy-3.5.0-cp37-cp37m-manylinux_2_17_x86_64.manylinux2014_x86_64.whl (6.5 MB)\r\n",
      "\u001b[2K     \u001b[90m━━━━━━━━━━━━━━━━━━━━━━━━━━━━━━━━━━━━━━━━\u001b[0m \u001b[32m6.5/6.5 MB\u001b[0m \u001b[31m77.3 MB/s\u001b[0m eta \u001b[36m0:00:00\u001b[0m\r\n",
      "\u001b[?25hRequirement already satisfied: torch>=1.6.0 in /opt/conda/lib/python3.7/site-packages (from spacy_transformers) (1.11.0)\r\n",
      "Requirement already satisfied: wasabi<1.2.0,>=0.9.1 in /opt/conda/lib/python3.7/site-packages (from spacy<4.0.0,>=3.4.0->spacy_transformers) (0.10.1)\r\n",
      "Requirement already satisfied: smart-open<7.0.0,>=5.2.1 in /opt/conda/lib/python3.7/site-packages (from spacy<4.0.0,>=3.4.0->spacy_transformers) (5.2.1)\r\n",
      "Collecting spacy-legacy<3.1.0,>=3.0.11\r\n",
      "  Downloading spacy_legacy-3.0.12-py2.py3-none-any.whl (29 kB)\r\n",
      "Requirement already satisfied: typing-extensions<4.5.0,>=3.7.4.1 in /opt/conda/lib/python3.7/site-packages (from spacy<4.0.0,>=3.4.0->spacy_transformers) (4.1.1)\r\n",
      "Requirement already satisfied: spacy-loggers<2.0.0,>=1.0.0 in /opt/conda/lib/python3.7/site-packages (from spacy<4.0.0,>=3.4.0->spacy_transformers) (1.0.3)\r\n",
      "Requirement already satisfied: preshed<3.1.0,>=3.0.2 in /opt/conda/lib/python3.7/site-packages (from spacy<4.0.0,>=3.4.0->spacy_transformers) (3.0.8)\r\n",
      "Requirement already satisfied: setuptools in /opt/conda/lib/python3.7/site-packages (from spacy<4.0.0,>=3.4.0->spacy_transformers) (59.8.0)\r\n",
      "Requirement already satisfied: packaging>=20.0 in /opt/conda/lib/python3.7/site-packages (from spacy<4.0.0,>=3.4.0->spacy_transformers) (21.3)\r\n",
      "Requirement already satisfied: jinja2 in /opt/conda/lib/python3.7/site-packages (from spacy<4.0.0,>=3.4.0->spacy_transformers) (3.1.2)\r\n",
      "Collecting pathy>=0.10.0\r\n",
      "  Downloading pathy-0.10.1-py3-none-any.whl (48 kB)\r\n",
      "\u001b[2K     \u001b[90m━━━━━━━━━━━━━━━━━━━━━━━━━━━━━━━━━━━━━━━━\u001b[0m \u001b[32m48.9/48.9 kB\u001b[0m \u001b[31m5.0 MB/s\u001b[0m eta \u001b[36m0:00:00\u001b[0m\r\n",
      "\u001b[?25hRequirement already satisfied: catalogue<2.1.0,>=2.0.6 in /opt/conda/lib/python3.7/site-packages (from spacy<4.0.0,>=3.4.0->spacy_transformers) (2.0.8)\r\n",
      "Requirement already satisfied: tqdm<5.0.0,>=4.38.0 in /opt/conda/lib/python3.7/site-packages (from spacy<4.0.0,>=3.4.0->spacy_transformers) (4.64.0)\r\n",
      "Requirement already satisfied: pydantic!=1.8,!=1.8.1,<1.11.0,>=1.7.4 in /opt/conda/lib/python3.7/site-packages (from spacy<4.0.0,>=3.4.0->spacy_transformers) (1.8.2)\r\n",
      "Requirement already satisfied: langcodes<4.0.0,>=3.2.0 in /opt/conda/lib/python3.7/site-packages (from spacy<4.0.0,>=3.4.0->spacy_transformers) (3.3.0)\r\n",
      "Requirement already satisfied: murmurhash<1.1.0,>=0.28.0 in /opt/conda/lib/python3.7/site-packages (from spacy<4.0.0,>=3.4.0->spacy_transformers) (1.0.9)\r\n",
      "Requirement already satisfied: typer<0.8.0,>=0.3.0 in /opt/conda/lib/python3.7/site-packages (from spacy<4.0.0,>=3.4.0->spacy_transformers) (0.4.2)\r\n",
      "Requirement already satisfied: cymem<2.1.0,>=2.0.2 in /opt/conda/lib/python3.7/site-packages (from spacy<4.0.0,>=3.4.0->spacy_transformers) (2.0.7)\r\n",
      "Requirement already satisfied: requests<3.0.0,>=2.13.0 in /opt/conda/lib/python3.7/site-packages (from spacy<4.0.0,>=3.4.0->spacy_transformers) (2.28.1)\r\n",
      "Collecting thinc<8.2.0,>=8.1.0\r\n",
      "  Downloading thinc-8.1.7-cp37-cp37m-manylinux_2_17_x86_64.manylinux2014_x86_64.whl (815 kB)\r\n",
      "\u001b[2K     \u001b[90m━━━━━━━━━━━━━━━━━━━━━━━━━━━━━━━━━━━━━━\u001b[0m \u001b[32m815.9/815.9 kB\u001b[0m \u001b[31m52.1 MB/s\u001b[0m eta \u001b[36m0:00:00\u001b[0m\r\n",
      "\u001b[?25hRequirement already satisfied: regex!=2019.12.17 in /opt/conda/lib/python3.7/site-packages (from transformers<4.27.0,>=3.4.0->spacy_transformers) (2021.11.10)\r\n",
      "Requirement already satisfied: tokenizers!=0.11.3,<0.13,>=0.11.1 in /opt/conda/lib/python3.7/site-packages (from transformers<4.27.0,>=3.4.0->spacy_transformers) (0.12.1)\r\n",
      "Requirement already satisfied: pyyaml>=5.1 in /opt/conda/lib/python3.7/site-packages (from transformers<4.27.0,>=3.4.0->spacy_transformers) (6.0)\r\n",
      "Requirement already satisfied: importlib-metadata in /opt/conda/lib/python3.7/site-packages (from transformers<4.27.0,>=3.4.0->spacy_transformers) (4.13.0)\r\n",
      "Requirement already satisfied: filelock in /opt/conda/lib/python3.7/site-packages (from transformers<4.27.0,>=3.4.0->spacy_transformers) (3.7.1)\r\n",
      "Requirement already satisfied: huggingface-hub<1.0,>=0.1.0 in /opt/conda/lib/python3.7/site-packages (from transformers<4.27.0,>=3.4.0->spacy_transformers) (0.10.1)\r\n",
      "Requirement already satisfied: zipp>=0.5 in /opt/conda/lib/python3.7/site-packages (from catalogue<2.1.0,>=2.0.6->spacy<4.0.0,>=3.4.0->spacy_transformers) (3.8.0)\r\n",
      "Requirement already satisfied: pyparsing!=3.0.5,>=2.0.2 in /opt/conda/lib/python3.7/site-packages (from packaging>=20.0->spacy<4.0.0,>=3.4.0->spacy_transformers) (3.0.9)\r\n",
      "Requirement already satisfied: charset-normalizer<3,>=2 in /opt/conda/lib/python3.7/site-packages (from requests<3.0.0,>=2.13.0->spacy<4.0.0,>=3.4.0->spacy_transformers) (2.1.0)\r\n",
      "Requirement already satisfied: idna<4,>=2.5 in /opt/conda/lib/python3.7/site-packages (from requests<3.0.0,>=2.13.0->spacy<4.0.0,>=3.4.0->spacy_transformers) (3.3)\r\n",
      "Requirement already satisfied: certifi>=2017.4.17 in /opt/conda/lib/python3.7/site-packages (from requests<3.0.0,>=2.13.0->spacy<4.0.0,>=3.4.0->spacy_transformers) (2022.9.24)\r\n",
      "Requirement already satisfied: urllib3<1.27,>=1.21.1 in /opt/conda/lib/python3.7/site-packages (from requests<3.0.0,>=2.13.0->spacy<4.0.0,>=3.4.0->spacy_transformers) (1.26.12)\r\n",
      "Requirement already satisfied: blis<0.8.0,>=0.7.8 in /opt/conda/lib/python3.7/site-packages (from thinc<8.2.0,>=8.1.0->spacy<4.0.0,>=3.4.0->spacy_transformers) (0.7.9)\r\n",
      "Requirement already satisfied: confection<1.0.0,>=0.0.1 in /opt/conda/lib/python3.7/site-packages (from thinc<8.2.0,>=8.1.0->spacy<4.0.0,>=3.4.0->spacy_transformers) (0.0.3)\r\n",
      "Requirement already satisfied: click<9.0.0,>=7.1.1 in /opt/conda/lib/python3.7/site-packages (from typer<0.8.0,>=0.3.0->spacy<4.0.0,>=3.4.0->spacy_transformers) (8.0.4)\r\n",
      "Requirement already satisfied: MarkupSafe>=2.0 in /opt/conda/lib/python3.7/site-packages (from jinja2->spacy<4.0.0,>=3.4.0->spacy_transformers) (2.1.1)\r\n",
      "Installing collected packages: spacy-legacy, spacy-alignments, thinc, pathy, spacy, spacy_transformers\r\n",
      "  Attempting uninstall: spacy-legacy\r\n",
      "    Found existing installation: spacy-legacy 3.0.10\r\n",
      "    Uninstalling spacy-legacy-3.0.10:\r\n",
      "      Successfully uninstalled spacy-legacy-3.0.10\r\n",
      "  Attempting uninstall: thinc\r\n",
      "    Found existing installation: thinc 8.0.17\r\n",
      "    Uninstalling thinc-8.0.17:\r\n",
      "      Successfully uninstalled thinc-8.0.17\r\n",
      "  Attempting uninstall: pathy\r\n",
      "    Found existing installation: pathy 0.6.2\r\n",
      "    Uninstalling pathy-0.6.2:\r\n",
      "      Successfully uninstalled pathy-0.6.2\r\n",
      "  Attempting uninstall: spacy\r\n",
      "    Found existing installation: spacy 3.3.1\r\n",
      "    Uninstalling spacy-3.3.1:\r\n",
      "      Successfully uninstalled spacy-3.3.1\r\n",
      "\u001b[31mERROR: pip's dependency resolver does not currently take into account all the packages that are installed. This behaviour is the source of the following dependency conflicts.\r\n",
      "en-core-web-sm 3.3.0 requires spacy<3.4.0,>=3.3.0.dev0, but you have spacy 3.5.0 which is incompatible.\r\n",
      "en-core-web-lg 3.3.0 requires spacy<3.4.0,>=3.3.0.dev0, but you have spacy 3.5.0 which is incompatible.\r\n",
      "allennlp 2.10.1 requires spacy<3.4,>=2.1.0, but you have spacy 3.5.0 which is incompatible.\u001b[0m\u001b[31m\r\n",
      "\u001b[0mSuccessfully installed pathy-0.10.1 spacy-3.5.0 spacy-alignments-0.9.0 spacy-legacy-3.0.12 spacy_transformers-1.2.1 thinc-8.1.7\r\n",
      "\u001b[33mWARNING: Running pip as the 'root' user can result in broken permissions and conflicting behaviour with the system package manager. It is recommended to use a virtual environment instead: https://pip.pypa.io/warnings/venv\u001b[0m\u001b[33m\r\n",
      "\u001b[0mRequirement already satisfied: spacy in /opt/conda/lib/python3.7/site-packages (3.5.0)\r\n",
      "Requirement already satisfied: pathy>=0.10.0 in /opt/conda/lib/python3.7/site-packages (from spacy) (0.10.1)\r\n",
      "Requirement already satisfied: spacy-loggers<2.0.0,>=1.0.0 in /opt/conda/lib/python3.7/site-packages (from spacy) (1.0.3)\r\n",
      "Requirement already satisfied: preshed<3.1.0,>=3.0.2 in /opt/conda/lib/python3.7/site-packages (from spacy) (3.0.8)\r\n",
      "Requirement already satisfied: numpy>=1.15.0 in /opt/conda/lib/python3.7/site-packages (from spacy) (1.21.6)\r\n",
      "Requirement already satisfied: catalogue<2.1.0,>=2.0.6 in /opt/conda/lib/python3.7/site-packages (from spacy) (2.0.8)\r\n",
      "Requirement already satisfied: typing-extensions<4.5.0,>=3.7.4.1 in /opt/conda/lib/python3.7/site-packages (from spacy) (4.1.1)\r\n",
      "Requirement already satisfied: wasabi<1.2.0,>=0.9.1 in /opt/conda/lib/python3.7/site-packages (from spacy) (0.10.1)\r\n",
      "Requirement already satisfied: pydantic!=1.8,!=1.8.1,<1.11.0,>=1.7.4 in /opt/conda/lib/python3.7/site-packages (from spacy) (1.8.2)\r\n",
      "Requirement already satisfied: cymem<2.1.0,>=2.0.2 in /opt/conda/lib/python3.7/site-packages (from spacy) (2.0.7)\r\n",
      "Requirement already satisfied: tqdm<5.0.0,>=4.38.0 in /opt/conda/lib/python3.7/site-packages (from spacy) (4.64.0)\r\n",
      "Requirement already satisfied: requests<3.0.0,>=2.13.0 in /opt/conda/lib/python3.7/site-packages (from spacy) (2.28.1)\r\n",
      "Requirement already satisfied: murmurhash<1.1.0,>=0.28.0 in /opt/conda/lib/python3.7/site-packages (from spacy) (1.0.9)\r\n",
      "Requirement already satisfied: thinc<8.2.0,>=8.1.0 in /opt/conda/lib/python3.7/site-packages (from spacy) (8.1.7)\r\n",
      "Requirement already satisfied: langcodes<4.0.0,>=3.2.0 in /opt/conda/lib/python3.7/site-packages (from spacy) (3.3.0)\r\n",
      "Requirement already satisfied: packaging>=20.0 in /opt/conda/lib/python3.7/site-packages (from spacy) (21.3)\r\n",
      "Requirement already satisfied: smart-open<7.0.0,>=5.2.1 in /opt/conda/lib/python3.7/site-packages (from spacy) (5.2.1)\r\n",
      "Requirement already satisfied: jinja2 in /opt/conda/lib/python3.7/site-packages (from spacy) (3.1.2)\r\n",
      "Requirement already satisfied: typer<0.8.0,>=0.3.0 in /opt/conda/lib/python3.7/site-packages (from spacy) (0.4.2)\r\n",
      "Requirement already satisfied: setuptools in /opt/conda/lib/python3.7/site-packages (from spacy) (59.8.0)\r\n",
      "Requirement already satisfied: spacy-legacy<3.1.0,>=3.0.11 in /opt/conda/lib/python3.7/site-packages (from spacy) (3.0.12)\r\n",
      "Requirement already satisfied: srsly<3.0.0,>=2.4.3 in /opt/conda/lib/python3.7/site-packages (from spacy) (2.4.5)\r\n",
      "Requirement already satisfied: zipp>=0.5 in /opt/conda/lib/python3.7/site-packages (from catalogue<2.1.0,>=2.0.6->spacy) (3.8.0)\r\n",
      "Requirement already satisfied: pyparsing!=3.0.5,>=2.0.2 in /opt/conda/lib/python3.7/site-packages (from packaging>=20.0->spacy) (3.0.9)\r\n",
      "Requirement already satisfied: certifi>=2017.4.17 in /opt/conda/lib/python3.7/site-packages (from requests<3.0.0,>=2.13.0->spacy) (2022.9.24)\r\n",
      "Requirement already satisfied: urllib3<1.27,>=1.21.1 in /opt/conda/lib/python3.7/site-packages (from requests<3.0.0,>=2.13.0->spacy) (1.26.12)\r\n",
      "Requirement already satisfied: idna<4,>=2.5 in /opt/conda/lib/python3.7/site-packages (from requests<3.0.0,>=2.13.0->spacy) (3.3)\r\n",
      "Requirement already satisfied: charset-normalizer<3,>=2 in /opt/conda/lib/python3.7/site-packages (from requests<3.0.0,>=2.13.0->spacy) (2.1.0)\r\n",
      "Requirement already satisfied: blis<0.8.0,>=0.7.8 in /opt/conda/lib/python3.7/site-packages (from thinc<8.2.0,>=8.1.0->spacy) (0.7.9)\r\n",
      "Requirement already satisfied: confection<1.0.0,>=0.0.1 in /opt/conda/lib/python3.7/site-packages (from thinc<8.2.0,>=8.1.0->spacy) (0.0.3)\r\n",
      "Requirement already satisfied: click<9.0.0,>=7.1.1 in /opt/conda/lib/python3.7/site-packages (from typer<0.8.0,>=0.3.0->spacy) (8.0.4)\r\n",
      "Requirement already satisfied: MarkupSafe>=2.0 in /opt/conda/lib/python3.7/site-packages (from jinja2->spacy) (2.1.1)\r\n",
      "Requirement already satisfied: importlib-metadata in /opt/conda/lib/python3.7/site-packages (from click<9.0.0,>=7.1.1->typer<0.8.0,>=0.3.0->spacy) (4.13.0)\r\n",
      "\u001b[33mWARNING: Running pip as the 'root' user can result in broken permissions and conflicting behaviour with the system package manager. It is recommended to use a virtual environment instead: https://pip.pypa.io/warnings/venv\u001b[0m\u001b[33m\r\n",
      "\u001b[0m"
     ]
    }
   ],
   "source": [
    "!pip install spacy_transformers\n",
    "!pip install -U spacy"
   ]
  },
  {
   "cell_type": "code",
   "execution_count": 2,
   "id": "77bf707a",
   "metadata": {
    "execution": {
     "iopub.execute_input": "2023-02-09T08:53:20.472295Z",
     "iopub.status.busy": "2023-02-09T08:53:20.471362Z",
     "iopub.status.idle": "2023-02-09T08:53:30.604248Z",
     "shell.execute_reply": "2023-02-09T08:53:30.603008Z"
    },
    "papermill": {
     "duration": 10.147514,
     "end_time": "2023-02-09T08:53:30.606560",
     "exception": false,
     "start_time": "2023-02-09T08:53:20.459046",
     "status": "completed"
    },
    "tags": []
   },
   "outputs": [
    {
     "name": "stdout",
     "output_type": "stream",
     "text": [
      "Collecting PyPDF2\r\n",
      "  Downloading pypdf2-3.0.1-py3-none-any.whl (232 kB)\r\n",
      "\u001b[2K     \u001b[90m━━━━━━━━━━━━━━━━━━━━━━━━━━━━━━━━━━━━━━━\u001b[0m \u001b[32m232.6/232.6 kB\u001b[0m \u001b[31m5.9 MB/s\u001b[0m eta \u001b[36m0:00:00\u001b[0m\r\n",
      "\u001b[?25hRequirement already satisfied: typing_extensions>=3.10.0.0 in /opt/conda/lib/python3.7/site-packages (from PyPDF2) (4.1.1)\r\n",
      "Installing collected packages: PyPDF2\r\n",
      "Successfully installed PyPDF2-3.0.1\r\n",
      "\u001b[33mWARNING: Running pip as the 'root' user can result in broken permissions and conflicting behaviour with the system package manager. It is recommended to use a virtual environment instead: https://pip.pypa.io/warnings/venv\u001b[0m\u001b[33m\r\n",
      "\u001b[0mNote: you may need to restart the kernel to use updated packages.\n"
     ]
    }
   ],
   "source": [
    "pip install PyPDF2"
   ]
  },
  {
   "cell_type": "code",
   "execution_count": 3,
   "id": "23d16a6c",
   "metadata": {
    "execution": {
     "iopub.execute_input": "2023-02-09T08:53:30.630159Z",
     "iopub.status.busy": "2023-02-09T08:53:30.629802Z",
     "iopub.status.idle": "2023-02-09T08:53:44.142390Z",
     "shell.execute_reply": "2023-02-09T08:53:44.140945Z"
    },
    "papermill": {
     "duration": 13.527404,
     "end_time": "2023-02-09T08:53:44.145178",
     "exception": false,
     "start_time": "2023-02-09T08:53:30.617774",
     "status": "completed"
    },
    "tags": []
   },
   "outputs": [
    {
     "name": "stdout",
     "output_type": "stream",
     "text": [
      "Collecting pyresparser\r\n",
      "  Downloading pyresparser-1.0.6-py3-none-any.whl (4.2 MB)\r\n",
      "\u001b[2K     \u001b[90m━━━━━━━━━━━━━━━━━━━━━━━━━━━━━━━━━━━━━━━━\u001b[0m \u001b[32m4.2/4.2 MB\u001b[0m \u001b[31m38.2 MB/s\u001b[0m eta \u001b[36m0:00:00\u001b[0m\r\n",
      "\u001b[?25hRequirement already satisfied: srsly>=0.0.7 in /opt/conda/lib/python3.7/site-packages (from pyresparser) (2.4.5)\r\n",
      "Requirement already satisfied: tqdm>=4.32.2 in /opt/conda/lib/python3.7/site-packages (from pyresparser) (4.64.0)\r\n",
      "Requirement already satisfied: urllib3>=1.25.3 in /opt/conda/lib/python3.7/site-packages (from pyresparser) (1.26.12)\r\n",
      "Requirement already satisfied: blis>=0.2.4 in /opt/conda/lib/python3.7/site-packages (from pyresparser) (0.7.9)\r\n",
      "Requirement already satisfied: six>=1.12.0 in /opt/conda/lib/python3.7/site-packages (from pyresparser) (1.15.0)\r\n",
      "Requirement already satisfied: sortedcontainers>=2.1.0 in /opt/conda/lib/python3.7/site-packages (from pyresparser) (2.4.0)\r\n",
      "Requirement already satisfied: pyrsistent>=0.15.2 in /opt/conda/lib/python3.7/site-packages (from pyresparser) (0.18.1)\r\n",
      "Requirement already satisfied: pandas>=0.24.2 in /opt/conda/lib/python3.7/site-packages (from pyresparser) (1.3.5)\r\n",
      "Requirement already satisfied: requests>=2.22.0 in /opt/conda/lib/python3.7/site-packages (from pyresparser) (2.28.1)\r\n",
      "Requirement already satisfied: wasabi>=0.2.2 in /opt/conda/lib/python3.7/site-packages (from pyresparser) (0.10.1)\r\n",
      "Requirement already satisfied: chardet>=3.0.4 in /opt/conda/lib/python3.7/site-packages (from pyresparser) (5.0.0)\r\n",
      "Requirement already satisfied: jsonschema>=3.0.1 in /opt/conda/lib/python3.7/site-packages (from pyresparser) (4.6.1)\r\n",
      "Requirement already satisfied: pytz>=2019.1 in /opt/conda/lib/python3.7/site-packages (from pyresparser) (2022.1)\r\n",
      "Requirement already satisfied: spacy>=2.1.4 in /opt/conda/lib/python3.7/site-packages (from pyresparser) (3.5.0)\r\n",
      "Collecting pdfminer.six>=20181108\r\n",
      "  Downloading pdfminer.six-20221105-py3-none-any.whl (5.6 MB)\r\n",
      "\u001b[2K     \u001b[90m━━━━━━━━━━━━━━━━━━━━━━━━━━━━━━━━━━━━━━━━\u001b[0m \u001b[32m5.6/5.6 MB\u001b[0m \u001b[31m76.5 MB/s\u001b[0m eta \u001b[36m0:00:00\u001b[0m\r\n",
      "\u001b[?25hRequirement already satisfied: python-dateutil>=2.8.0 in /opt/conda/lib/python3.7/site-packages (from pyresparser) (2.8.2)\r\n",
      "Requirement already satisfied: numpy>=1.16.4 in /opt/conda/lib/python3.7/site-packages (from pyresparser) (1.21.6)\r\n",
      "Collecting pycryptodome>=3.8.2\r\n",
      "  Downloading pycryptodome-3.17-cp35-abi3-manylinux_2_17_x86_64.manylinux2014_x86_64.whl (2.1 MB)\r\n",
      "\u001b[2K     \u001b[90m━━━━━━━━━━━━━━━━━━━━━━━━━━━━━━━━━━━━━━━━\u001b[0m \u001b[32m2.1/2.1 MB\u001b[0m \u001b[31m71.1 MB/s\u001b[0m eta \u001b[36m0:00:00\u001b[0m\r\n",
      "\u001b[?25hRequirement already satisfied: idna>=2.8 in /opt/conda/lib/python3.7/site-packages (from pyresparser) (3.3)\r\n",
      "Collecting docx2txt>=0.7\r\n",
      "  Downloading docx2txt-0.8.tar.gz (2.8 kB)\r\n",
      "  Preparing metadata (setup.py) ... \u001b[?25l-\b \bdone\r\n",
      "\u001b[?25hRequirement already satisfied: certifi>=2019.6.16 in /opt/conda/lib/python3.7/site-packages (from pyresparser) (2022.9.24)\r\n",
      "Requirement already satisfied: preshed>=2.0.1 in /opt/conda/lib/python3.7/site-packages (from pyresparser) (3.0.8)\r\n",
      "Requirement already satisfied: thinc>=7.0.4 in /opt/conda/lib/python3.7/site-packages (from pyresparser) (8.1.7)\r\n",
      "Requirement already satisfied: attrs>=19.1.0 in /opt/conda/lib/python3.7/site-packages (from pyresparser) (21.4.0)\r\n",
      "Requirement already satisfied: nltk>=3.4.3 in /opt/conda/lib/python3.7/site-packages (from pyresparser) (3.7)\r\n",
      "Requirement already satisfied: cymem>=2.0.2 in /opt/conda/lib/python3.7/site-packages (from pyresparser) (2.0.7)\r\n",
      "Requirement already satisfied: importlib-resources>=1.4.0 in /opt/conda/lib/python3.7/site-packages (from jsonschema>=3.0.1->pyresparser) (5.8.0)\r\n",
      "Requirement already satisfied: typing-extensions in /opt/conda/lib/python3.7/site-packages (from jsonschema>=3.0.1->pyresparser) (4.1.1)\r\n",
      "Requirement already satisfied: importlib-metadata in /opt/conda/lib/python3.7/site-packages (from jsonschema>=3.0.1->pyresparser) (4.13.0)\r\n",
      "Requirement already satisfied: joblib in /opt/conda/lib/python3.7/site-packages (from nltk>=3.4.3->pyresparser) (1.0.1)\r\n",
      "Requirement already satisfied: regex>=2021.8.3 in /opt/conda/lib/python3.7/site-packages (from nltk>=3.4.3->pyresparser) (2021.11.10)\r\n",
      "Requirement already satisfied: click in /opt/conda/lib/python3.7/site-packages (from nltk>=3.4.3->pyresparser) (8.0.4)\r\n",
      "Requirement already satisfied: cryptography>=36.0.0 in /opt/conda/lib/python3.7/site-packages (from pdfminer.six>=20181108->pyresparser) (37.0.2)\r\n",
      "Requirement already satisfied: charset-normalizer>=2.0.0 in /opt/conda/lib/python3.7/site-packages (from pdfminer.six>=20181108->pyresparser) (2.1.0)\r\n",
      "Requirement already satisfied: murmurhash<1.1.0,>=0.28.0 in /opt/conda/lib/python3.7/site-packages (from preshed>=2.0.1->pyresparser) (1.0.9)\r\n",
      "Requirement already satisfied: pathy>=0.10.0 in /opt/conda/lib/python3.7/site-packages (from spacy>=2.1.4->pyresparser) (0.10.1)\r\n",
      "Requirement already satisfied: jinja2 in /opt/conda/lib/python3.7/site-packages (from spacy>=2.1.4->pyresparser) (3.1.2)\r\n",
      "Requirement already satisfied: packaging>=20.0 in /opt/conda/lib/python3.7/site-packages (from spacy>=2.1.4->pyresparser) (21.3)\r\n",
      "Requirement already satisfied: spacy-loggers<2.0.0,>=1.0.0 in /opt/conda/lib/python3.7/site-packages (from spacy>=2.1.4->pyresparser) (1.0.3)\r\n",
      "Requirement already satisfied: langcodes<4.0.0,>=3.2.0 in /opt/conda/lib/python3.7/site-packages (from spacy>=2.1.4->pyresparser) (3.3.0)\r\n",
      "Requirement already satisfied: pydantic!=1.8,!=1.8.1,<1.11.0,>=1.7.4 in /opt/conda/lib/python3.7/site-packages (from spacy>=2.1.4->pyresparser) (1.8.2)\r\n",
      "Requirement already satisfied: typer<0.8.0,>=0.3.0 in /opt/conda/lib/python3.7/site-packages (from spacy>=2.1.4->pyresparser) (0.4.2)\r\n",
      "Requirement already satisfied: setuptools in /opt/conda/lib/python3.7/site-packages (from spacy>=2.1.4->pyresparser) (59.8.0)\r\n",
      "Requirement already satisfied: catalogue<2.1.0,>=2.0.6 in /opt/conda/lib/python3.7/site-packages (from spacy>=2.1.4->pyresparser) (2.0.8)\r\n",
      "Requirement already satisfied: smart-open<7.0.0,>=5.2.1 in /opt/conda/lib/python3.7/site-packages (from spacy>=2.1.4->pyresparser) (5.2.1)\r\n",
      "Requirement already satisfied: spacy-legacy<3.1.0,>=3.0.11 in /opt/conda/lib/python3.7/site-packages (from spacy>=2.1.4->pyresparser) (3.0.12)\r\n",
      "Requirement already satisfied: confection<1.0.0,>=0.0.1 in /opt/conda/lib/python3.7/site-packages (from thinc>=7.0.4->pyresparser) (0.0.3)\r\n",
      "Requirement already satisfied: zipp>=0.5 in /opt/conda/lib/python3.7/site-packages (from catalogue<2.1.0,>=2.0.6->spacy>=2.1.4->pyresparser) (3.8.0)\r\n",
      "Requirement already satisfied: cffi>=1.12 in /opt/conda/lib/python3.7/site-packages (from cryptography>=36.0.0->pdfminer.six>=20181108->pyresparser) (1.15.0)\r\n",
      "Requirement already satisfied: pyparsing!=3.0.5,>=2.0.2 in /opt/conda/lib/python3.7/site-packages (from packaging>=20.0->spacy>=2.1.4->pyresparser) (3.0.9)\r\n",
      "Requirement already satisfied: MarkupSafe>=2.0 in /opt/conda/lib/python3.7/site-packages (from jinja2->spacy>=2.1.4->pyresparser) (2.1.1)\r\n",
      "Requirement already satisfied: pycparser in /opt/conda/lib/python3.7/site-packages (from cffi>=1.12->cryptography>=36.0.0->pdfminer.six>=20181108->pyresparser) (2.21)\r\n",
      "Building wheels for collected packages: docx2txt\r\n",
      "  Building wheel for docx2txt (setup.py) ... \u001b[?25l-\b \b\\\b \bdone\r\n",
      "\u001b[?25h  Created wheel for docx2txt: filename=docx2txt-0.8-py3-none-any.whl size=3980 sha256=4e8416d3e20d388cf9bd80bc00bf6d9b3f74e75e04576e8caf1b6cb9fb6cbd67\r\n",
      "  Stored in directory: /root/.cache/pip/wheels/b7/20/b2/473e3aea9a0c0d3e7b2f7bd81d06d0794fec12752733d1f3a8\r\n",
      "Successfully built docx2txt\r\n",
      "Installing collected packages: docx2txt, pycryptodome, pdfminer.six, pyresparser\r\n",
      "Successfully installed docx2txt-0.8 pdfminer.six-20221105 pycryptodome-3.17 pyresparser-1.0.6\r\n",
      "\u001b[33mWARNING: Running pip as the 'root' user can result in broken permissions and conflicting behaviour with the system package manager. It is recommended to use a virtual environment instead: https://pip.pypa.io/warnings/venv\u001b[0m\u001b[33m\r\n",
      "\u001b[0mNote: you may need to restart the kernel to use updated packages.\n"
     ]
    }
   ],
   "source": [
    "pip install pyresparser"
   ]
  },
  {
   "cell_type": "code",
   "execution_count": 4,
   "id": "183a9ccb",
   "metadata": {
    "_cell_guid": "cca3060a-d18d-4f20-b83f-1a1be7061c08",
    "_uuid": "6ad63e08-efe6-4c57-97be-1eb0f3c0b211",
    "collapsed": false,
    "execution": {
     "iopub.execute_input": "2023-02-09T08:53:44.174366Z",
     "iopub.status.busy": "2023-02-09T08:53:44.174009Z",
     "iopub.status.idle": "2023-02-09T08:54:04.165373Z",
     "shell.execute_reply": "2023-02-09T08:54:04.164294Z"
    },
    "id": "liZ44SOAIGOd",
    "jupyter": {
     "outputs_hidden": false
    },
    "papermill": {
     "duration": 20.007489,
     "end_time": "2023-02-09T08:54:04.167906",
     "exception": false,
     "start_time": "2023-02-09T08:53:44.160417",
     "status": "completed"
    },
    "tags": []
   },
   "outputs": [
    {
     "name": "stderr",
     "output_type": "stream",
     "text": [
      "2023-02-09 08:53:51.931537: I tensorflow/stream_executor/cuda/cuda_gpu_executor.cc:937] successful NUMA node read from SysFS had negative value (-1), but there must be at least one NUMA node, so returning NUMA node zero\n",
      "2023-02-09 08:53:51.932494: I tensorflow/stream_executor/cuda/cuda_gpu_executor.cc:937] successful NUMA node read from SysFS had negative value (-1), but there must be at least one NUMA node, so returning NUMA node zero\n",
      "2023-02-09 08:53:51.933537: I tensorflow/stream_executor/cuda/cuda_gpu_executor.cc:937] successful NUMA node read from SysFS had negative value (-1), but there must be at least one NUMA node, so returning NUMA node zero\n",
      "2023-02-09 08:53:51.934327: I tensorflow/stream_executor/cuda/cuda_gpu_executor.cc:937] successful NUMA node read from SysFS had negative value (-1), but there must be at least one NUMA node, so returning NUMA node zero\n",
      "2023-02-09 08:53:51.935111: I tensorflow/stream_executor/cuda/cuda_gpu_executor.cc:937] successful NUMA node read from SysFS had negative value (-1), but there must be at least one NUMA node, so returning NUMA node zero\n",
      "2023-02-09 08:53:51.936052: I tensorflow/stream_executor/cuda/cuda_gpu_executor.cc:937] successful NUMA node read from SysFS had negative value (-1), but there must be at least one NUMA node, so returning NUMA node zero\n"
     ]
    }
   ],
   "source": [
    "import spacy\n",
    "from spacy.tokens import DocBin\n",
    "from tqdm import tqdm  \n",
    "import json"
   ]
  },
  {
   "cell_type": "code",
   "execution_count": 5,
   "id": "d44a14cd",
   "metadata": {
    "_cell_guid": "98d0925f-57fa-469b-a31e-f3501d9a06f0",
    "_uuid": "3c1ec797-0a09-446d-9f01-f9ae68ac0eb7",
    "collapsed": false,
    "execution": {
     "iopub.execute_input": "2023-02-09T08:54:04.195596Z",
     "iopub.status.busy": "2023-02-09T08:54:04.194791Z",
     "iopub.status.idle": "2023-02-09T08:54:04.203195Z",
     "shell.execute_reply": "2023-02-09T08:54:04.202212Z"
    },
    "id": "ZVnT42GpIGOd",
    "jupyter": {
     "outputs_hidden": false
    },
    "outputId": "1cb2a143-a685-490b-ecff-d878b5efe2d0",
    "papermill": {
     "duration": 0.02429,
     "end_time": "2023-02-09T08:54:04.205362",
     "exception": false,
     "start_time": "2023-02-09T08:54:04.181072",
     "status": "completed"
    },
    "scrolled": true,
    "tags": []
   },
   "outputs": [
    {
     "data": {
      "text/plain": [
       "'3.5.0'"
      ]
     },
     "execution_count": 5,
     "metadata": {},
     "output_type": "execute_result"
    }
   ],
   "source": [
    "spacy.__version__"
   ]
  },
  {
   "cell_type": "code",
   "execution_count": 6,
   "id": "f3eb2f0a",
   "metadata": {
    "_cell_guid": "f774be3f-38d5-4088-b494-bae963f69421",
    "_uuid": "efcd8c4b-9801-4586-aa89-dae449b630c8",
    "collapsed": false,
    "execution": {
     "iopub.execute_input": "2023-02-09T08:54:04.234180Z",
     "iopub.status.busy": "2023-02-09T08:54:04.232692Z",
     "iopub.status.idle": "2023-02-09T08:54:04.261631Z",
     "shell.execute_reply": "2023-02-09T08:54:04.260738Z"
    },
    "id": "ub5yOsZLIGOd",
    "jupyter": {
     "outputs_hidden": false
    },
    "papermill": {
     "duration": 0.04521,
     "end_time": "2023-02-09T08:54:04.263718",
     "exception": false,
     "start_time": "2023-02-09T08:54:04.218508",
     "status": "completed"
    },
    "tags": []
   },
   "outputs": [],
   "source": [
    "cv_data = json.load(open('/kaggle/input/resumeparsing/data/training/train_data.json'))"
   ]
  },
  {
   "cell_type": "code",
   "execution_count": 7,
   "id": "c97b6b52",
   "metadata": {
    "_cell_guid": "52aeaa30-e850-409d-9a5d-9a9dd7b3f8e5",
    "_uuid": "c7a0d041-739d-4dba-aeba-a1944b27df23",
    "collapsed": false,
    "execution": {
     "iopub.execute_input": "2023-02-09T08:54:04.292471Z",
     "iopub.status.busy": "2023-02-09T08:54:04.290958Z",
     "iopub.status.idle": "2023-02-09T08:54:04.298209Z",
     "shell.execute_reply": "2023-02-09T08:54:04.297265Z"
    },
    "id": "E1ToWUfcIGOd",
    "jupyter": {
     "outputs_hidden": false
    },
    "outputId": "a8585557-d968-4dc7-de46-171705129035",
    "papermill": {
     "duration": 0.023348,
     "end_time": "2023-02-09T08:54:04.300392",
     "exception": false,
     "start_time": "2023-02-09T08:54:04.277044",
     "status": "completed"
    },
    "tags": []
   },
   "outputs": [
    {
     "data": {
      "text/plain": [
       "200"
      ]
     },
     "execution_count": 7,
     "metadata": {},
     "output_type": "execute_result"
    }
   ],
   "source": [
    "len(cv_data)"
   ]
  },
  {
   "cell_type": "code",
   "execution_count": 8,
   "id": "5ccd21f1",
   "metadata": {
    "_cell_guid": "87f4ce86-72ef-4e69-b907-3b92bab6a625",
    "_uuid": "55b2a6bb-fa77-4406-a795-fd03788aa6e2",
    "collapsed": false,
    "execution": {
     "iopub.execute_input": "2023-02-09T08:54:04.327278Z",
     "iopub.status.busy": "2023-02-09T08:54:04.327009Z",
     "iopub.status.idle": "2023-02-09T08:54:18.021256Z",
     "shell.execute_reply": "2023-02-09T08:54:18.019730Z"
    },
    "id": "VXhdeaZTIGOe",
    "jupyter": {
     "outputs_hidden": false
    },
    "outputId": "223df417-3010-4de6-e8a2-5c1335ba45bd",
    "papermill": {
     "duration": 13.711652,
     "end_time": "2023-02-09T08:54:18.024549",
     "exception": false,
     "start_time": "2023-02-09T08:54:04.312897",
     "status": "completed"
    },
    "tags": []
   },
   "outputs": [
    {
     "name": "stdout",
     "output_type": "stream",
     "text": [
      "2023-02-09 08:54:08.422785: I tensorflow/stream_executor/cuda/cuda_gpu_executor.cc:937] successful NUMA node read from SysFS had negative value (-1), but there must be at least one NUMA node, so returning NUMA node zero\r\n",
      "2023-02-09 08:54:08.423810: I tensorflow/stream_executor/cuda/cuda_gpu_executor.cc:937] successful NUMA node read from SysFS had negative value (-1), but there must be at least one NUMA node, so returning NUMA node zero\r\n",
      "2023-02-09 08:54:08.424990: I tensorflow/stream_executor/cuda/cuda_gpu_executor.cc:937] successful NUMA node read from SysFS had negative value (-1), but there must be at least one NUMA node, so returning NUMA node zero\r\n",
      "2023-02-09 08:54:08.425873: I tensorflow/stream_executor/cuda/cuda_gpu_executor.cc:937] successful NUMA node read from SysFS had negative value (-1), but there must be at least one NUMA node, so returning NUMA node zero\r\n",
      "2023-02-09 08:54:08.427010: I tensorflow/stream_executor/cuda/cuda_gpu_executor.cc:937] successful NUMA node read from SysFS had negative value (-1), but there must be at least one NUMA node, so returning NUMA node zero\r\n",
      "2023-02-09 08:54:08.428144: I tensorflow/stream_executor/cuda/cuda_gpu_executor.cc:937] successful NUMA node read from SysFS had negative value (-1), but there must be at least one NUMA node, so returning NUMA node zero\r\n",
      "\u001b[38;5;2m✔ Auto-filled config with all values\u001b[0m\r\n",
      "\u001b[38;5;2m✔ Saved config\u001b[0m\r\n",
      "config.cfg\r\n",
      "You can now add your data and train your pipeline:\r\n",
      "python -m spacy train config.cfg --paths.train ./train.spacy --paths.dev ./dev.spacy\r\n"
     ]
    }
   ],
   "source": [
    "!python -m spacy init fill-config /kaggle/input/resumeparsing/data/training/base_config.cfg config.cfg"
   ]
  },
  {
   "cell_type": "code",
   "execution_count": 9,
   "id": "fc7decf3",
   "metadata": {
    "_cell_guid": "5a71d80e-b17d-4fbf-ad0a-60754b543eb2",
    "_uuid": "41e5aa5f-a22d-449b-bb7f-46f5282bf713",
    "collapsed": false,
    "execution": {
     "iopub.execute_input": "2023-02-09T08:54:18.074350Z",
     "iopub.status.busy": "2023-02-09T08:54:18.073958Z",
     "iopub.status.idle": "2023-02-09T08:54:18.082720Z",
     "shell.execute_reply": "2023-02-09T08:54:18.081791Z"
    },
    "id": "wWS6B5QeIGOe",
    "jupyter": {
     "outputs_hidden": false
    },
    "outputId": "f7078d85-1956-4684-855e-62400f8bedc4",
    "papermill": {
     "duration": 0.029641,
     "end_time": "2023-02-09T08:54:18.084631",
     "exception": false,
     "start_time": "2023-02-09T08:54:18.054990",
     "status": "completed"
    },
    "tags": []
   },
   "outputs": [
    {
     "data": {
      "text/plain": [
       "[\"Harini Komaravelli Test Analyst at Oracle, Hyderabad  Hyderabad, Telangana - Email me on Indeed: indeed.com/r/Harini- Komaravelli/2659eee82e435d1b  ➢ 6 Yrs. of IT Experience in Manual and Automation testing.  WORK EXPERIENCE  QA Analyst  Oracle  Test Analyst at Oracle, Hyderabad  Infosys Ltd -  Hyderabad, Telangana -  November 2011 to February 2016  Hyderabad from Nov 2011 to Feb17 2016 ➢ Worked in Tata Consultancy Services, Hyderabad from Feb 24 to Apr 11 2017 ➢ Currently working as a Test Analyst at Oracle, Hyderabad  QA Analyst with 6 years of IT experience  Oracle  EDUCATION  MCA  Osmania University  B.Sc. in Computer Science  Osmania University  SKILLS  Functional Testing, Blue Prism, Qtp  ADDITIONAL INFORMATION  Area of Expertise:  ➢ Familiar with Agile Methodologies. ➢ Having knowledge in Energy (Petroleum) & Health Care domains. ➢ Involved in preparation of Test Scenarios. ➢ Preparing Test Data for the test cases.  https://www.indeed.com/r/Harini-Komaravelli/2659eee82e435d1b?isid=rex-download&ikw=download-top&co=IN https://www.indeed.com/r/Harini-Komaravelli/2659eee82e435d1b?isid=rex-download&ikw=download-top&co=IN   ➢ Experienced in development and execution of Test cases effectively. ➢ Experienced in Functional testing, GUI testing, Smoke testing, Regression testing and Integration Testing ➢ Experienced in doing Accessibility testing of an application ➢ Ability to understand user Requirements, Functional and Design specifications. ➢ Good knowledge of SDLC and STLC processes. ➢ Deciding the Severity and Priority of bugs. ➢ Experience in using Microsoft Test Manager & Oracle Test Manager as Test Management Tools. ➢ Having good experience in testing windows based & web based applications. ➢ Involved in Client Interactions for reviews, issues and for any clarifications. ➢ Web Services Testing ➢ Writing Test Scripts in QTP, Testcomplete. ➢ Creating Object Repositories and Function Libraries in QTP. ➢ Enhanced QTP scripts using VB Script. ➢ Strong experience in working with Blue Prism tool ➢ Worked on different Environments like Windows Application & Web Application  Technical Skills:  ❑ Test Automation Tools: Blue Prism, QTP 10.0, Testcomplete ❑ Test Management Tool: Microsoft Test Manager, Oracle Test Manager & JIRA ❑ Databases: Oracle 10g, SQL Server.  ❑ Operating Systems: Windows 7  Project 1: Title: Cadence Client: Baker Hughes  Technologies: Microsoft Visual Studio and Microsoft Team Foundation Server  Client Background: An oilfield services company delivering focused efforts on shale gas and other oilfield services. It provides services, tools and software for drilling and formation evaluation, well completion, production management, seismic data collection and interpretation.  Project Description: AUT (Application under test) is the next generation revolutionary, robust, easy to use scalable well site data acquisition processing and interpretation system for Client's Drilling Services to deliver services that meets cross divisional business requirements consistently.  Project 2:  Description: Paragon supports your entire care team with one tool that your clinicians need to help deliver the best patient care. Designed by physicians, nurses, pharmacists and mid level providers that have a first-hand understanding of clinical workflow needs, Paragon clinical applications allow your caregivers to focus on what matters most; spending time caring for patients. Since Paragon is fully-integrated across all applications and built around a single patient database, information    entered anywhere in the system is immediately available to the entire care team. Immediate access not only helps clinicians make better treatment decisions - it also helps promote patient safety. Paragon offers a broad suite of multidisciplinary clinical software solutions together with anytime, anywhere access to the complete patient record.  Responsibilities:  • Performed Smoke testing and Regression testing. • Involved in Generating and Executing Test Script using Quick Test Pro & Blue Prism • Usability and User Interface Testing. • Involved in Defect tracking and reporting the bugs using TFS • Participated in frequent walk-through meetings with Internal Quality Assurance groups and with development groups. • Participated in client calls and clarifying the doubts by having AT&T sessions • Involved in functional, regression and smoke testing to validate the application data changes done in windows application • Certifying the build status by running the scripts as part of smoke testing  Project 3:  Description: Food & Beverages R&A: Easily manage business across multiple locations while reducing IT cost and complexity. Cloud-based point-of-sale (POS) solutions enable centralized enterprise management with lower upfront costs and a smaller footprint.  Responsibilities:  • Performed Functional testing and Regression testing. • Involved in Generating and Executing Test Scripts using Blue Prism tool and Open script • Involved in preparing bots using Blue Prism tool. • Accessibility testing of the web application • Involved in Defect tracking and reporting the bugs using JIRA • WebServices testing by calling API's to export the data\",\n",
       " {'entities': [[2275, 2281, 'Companies worked at'],\n",
       "   [2235, 2241, 'Companies worked at'],\n",
       "   [1603, 1609, 'Companies worked at'],\n",
       "   [667, 702, 'Skills'],\n",
       "   [639, 657, 'College Name'],\n",
       "   [612, 637, 'Degree'],\n",
       "   [592, 610, 'College Name'],\n",
       "   [587, 590, 'Degree'],\n",
       "   [568, 574, 'Companies worked at'],\n",
       "   [526, 536, 'Designation'],\n",
       "   [515, 524, 'Location'],\n",
       "   [507, 513, 'Companies worked at'],\n",
       "   [491, 503, 'Designation'],\n",
       "   [429, 438, 'Location'],\n",
       "   [352, 361, 'Location'],\n",
       "   [296, 305, 'Location'],\n",
       "   [270, 279, 'Location'],\n",
       "   [262, 268, 'Companies worked at'],\n",
       "   [246, 258, 'Designation'],\n",
       "   [238, 244, 'Companies worked at'],\n",
       "   [226, 236, 'Designation'],\n",
       "   [177, 207, 'Designation'],\n",
       "   [150, 155, 'Years of Experience'],\n",
       "   [54, 63, 'Location'],\n",
       "   [43, 52, 'Location'],\n",
       "   [35, 41, 'Companies worked at'],\n",
       "   [19, 31, 'Designation'],\n",
       "   [0, 18, 'Name']]}]"
      ]
     },
     "execution_count": 9,
     "metadata": {},
     "output_type": "execute_result"
    }
   ],
   "source": [
    "cv_data[1]"
   ]
  },
  {
   "cell_type": "code",
   "execution_count": 10,
   "id": "60cf1389",
   "metadata": {
    "_cell_guid": "14ca0eaa-ae9b-4f79-b31c-5e4964b0391c",
    "_uuid": "f3f33be0-5d1b-4b52-9445-51f641a616f2",
    "collapsed": false,
    "execution": {
     "iopub.execute_input": "2023-02-09T08:54:18.112213Z",
     "iopub.status.busy": "2023-02-09T08:54:18.111468Z",
     "iopub.status.idle": "2023-02-09T08:54:18.120351Z",
     "shell.execute_reply": "2023-02-09T08:54:18.119513Z"
    },
    "id": "9dhqfVWZIGOe",
    "jupyter": {
     "outputs_hidden": false
    },
    "papermill": {
     "duration": 0.024778,
     "end_time": "2023-02-09T08:54:18.122434",
     "exception": false,
     "start_time": "2023-02-09T08:54:18.097656",
     "status": "completed"
    },
    "tags": []
   },
   "outputs": [],
   "source": [
    "def get_spacy_doc(file, data):\n",
    "    nlp = spacy.blank('en')\n",
    "    db = DocBin()\n",
    "        \n",
    "    for text, annot in tqdm(data):\n",
    "        doc = nlp.make_doc(text)\n",
    "        annot = annot['entities']\n",
    "    \n",
    "        ents = []\n",
    "        entity_indices = []\n",
    "            \n",
    "        for start, end, label in annot:\n",
    "            skip_entity = False\n",
    "            for idx in range(start, end):\n",
    "                if idx in entity_indices:\n",
    "                    skip_entity = True\n",
    "                    break\n",
    "            if skip_entity == True:\n",
    "                continue \n",
    "                    \n",
    "            entity_indices = entity_indices + list(range(start, end))  \n",
    "                \n",
    "            try:\n",
    "                span = doc.char_span(start, end,label=label,alignment_mode = 'strict')\n",
    "            except:\n",
    "                continue\n",
    "\n",
    "            if span is None:\n",
    "                err_data = str([start, end]) + \" \" + str(text) + \"\\n \"\n",
    "                file.write(err_data)\n",
    "            else:\n",
    "                ents.append(span)\n",
    "\n",
    "        try:\n",
    "            doc.ents = ents\n",
    "            db.add(doc)\n",
    "        except:\n",
    "            pass \n",
    "    return db"
   ]
  },
  {
   "cell_type": "code",
   "execution_count": 11,
   "id": "803aa6fc",
   "metadata": {
    "_cell_guid": "be5af31c-c03f-4eff-b9a6-865c9f1c9c87",
    "_uuid": "6685e421-71e2-45f4-baa6-7031057a003a",
    "collapsed": false,
    "execution": {
     "iopub.execute_input": "2023-02-09T08:54:18.149966Z",
     "iopub.status.busy": "2023-02-09T08:54:18.149206Z",
     "iopub.status.idle": "2023-02-09T08:54:18.224006Z",
     "shell.execute_reply": "2023-02-09T08:54:18.222928Z"
    },
    "id": "BzftUQk8IGOf",
    "jupyter": {
     "outputs_hidden": false
    },
    "papermill": {
     "duration": 0.091597,
     "end_time": "2023-02-09T08:54:18.226746",
     "exception": false,
     "start_time": "2023-02-09T08:54:18.135149",
     "status": "completed"
    },
    "tags": []
   },
   "outputs": [],
   "source": [
    "from sklearn.model_selection import train_test_split\n",
    "train, test = train_test_split(cv_data, test_size=0.3)"
   ]
  },
  {
   "cell_type": "code",
   "execution_count": 12,
   "id": "24f96ecd",
   "metadata": {
    "_cell_guid": "55a9e733-890c-44cc-bb1c-d03a8babe6fd",
    "_uuid": "49102d36-14c9-4cd2-813a-057b409b0634",
    "collapsed": false,
    "execution": {
     "iopub.execute_input": "2023-02-09T08:54:18.255776Z",
     "iopub.status.busy": "2023-02-09T08:54:18.254904Z",
     "iopub.status.idle": "2023-02-09T08:54:18.261750Z",
     "shell.execute_reply": "2023-02-09T08:54:18.260771Z"
    },
    "id": "xtRrhQ6uIGOf",
    "jupyter": {
     "outputs_hidden": false
    },
    "outputId": "011de0c4-0adb-411a-96a4-193066598c62",
    "papermill": {
     "duration": 0.022956,
     "end_time": "2023-02-09T08:54:18.263935",
     "exception": false,
     "start_time": "2023-02-09T08:54:18.240979",
     "status": "completed"
    },
    "tags": []
   },
   "outputs": [
    {
     "data": {
      "text/plain": [
       "(140, 60)"
      ]
     },
     "execution_count": 12,
     "metadata": {},
     "output_type": "execute_result"
    }
   ],
   "source": [
    " len(train),len(test)"
   ]
  },
  {
   "cell_type": "code",
   "execution_count": 13,
   "id": "3343c83e",
   "metadata": {
    "_cell_guid": "78830a17-fbdf-4352-ad66-7fe2cbe2531c",
    "_uuid": "7ee22766-43d2-41d4-83d2-ab62a9b254a5",
    "collapsed": false,
    "execution": {
     "iopub.execute_input": "2023-02-09T08:54:18.291428Z",
     "iopub.status.busy": "2023-02-09T08:54:18.291143Z",
     "iopub.status.idle": "2023-02-09T08:54:21.655476Z",
     "shell.execute_reply": "2023-02-09T08:54:21.654399Z"
    },
    "id": "CiXp0lRJIGOf",
    "jupyter": {
     "outputs_hidden": false
    },
    "outputId": "bcc8b3dc-80fe-46b5-e464-9a3e561e819c",
    "papermill": {
     "duration": 3.390359,
     "end_time": "2023-02-09T08:54:21.667447",
     "exception": false,
     "start_time": "2023-02-09T08:54:18.277088",
     "status": "completed"
    },
    "tags": []
   },
   "outputs": [
    {
     "name": "stderr",
     "output_type": "stream",
     "text": [
      "100%|██████████| 140/140 [00:01<00:00, 86.74it/s]\n",
      "100%|██████████| 60/60 [00:00<00:00, 62.28it/s]\n"
     ]
    }
   ],
   "source": [
    "file = open('error.txt','w')\n",
    "\n",
    "db = get_spacy_doc(file, train)\n",
    "db.to_disk('train_data.spacy')\n",
    "\n",
    "db = get_spacy_doc(file, test)\n",
    "db.to_disk('test_data.spacy')\n",
    "\n",
    "file.close()"
   ]
  },
  {
   "cell_type": "code",
   "execution_count": 14,
   "id": "66fca919",
   "metadata": {
    "_cell_guid": "5930abe6-d4fd-4cb6-8474-7dca522e7a51",
    "_uuid": "ddf5a391-37bf-4788-8cb1-88c93fd29267",
    "collapsed": false,
    "execution": {
     "iopub.execute_input": "2023-02-09T08:54:21.769777Z",
     "iopub.status.busy": "2023-02-09T08:54:21.769388Z",
     "iopub.status.idle": "2023-02-09T08:54:21.775421Z",
     "shell.execute_reply": "2023-02-09T08:54:21.774538Z"
    },
    "id": "W6F9iAq6q9Td",
    "jupyter": {
     "outputs_hidden": false
    },
    "outputId": "59fea2f6-baaf-4c97-c51f-fd349bc8b311",
    "papermill": {
     "duration": 0.061643,
     "end_time": "2023-02-09T08:54:21.781910",
     "exception": false,
     "start_time": "2023-02-09T08:54:21.720267",
     "status": "completed"
    },
    "tags": []
   },
   "outputs": [
    {
     "data": {
      "text/plain": [
       "60"
      ]
     },
     "execution_count": 14,
     "metadata": {},
     "output_type": "execute_result"
    }
   ],
   "source": [
    "len(db.tokens)"
   ]
  },
  {
   "cell_type": "code",
   "execution_count": 15,
   "id": "be1dea1a",
   "metadata": {
    "_cell_guid": "ef0bc069-a4dc-4318-89ef-46426f0af129",
    "_uuid": "be2be04d-55f2-451d-8114-c369ab45d452",
    "collapsed": false,
    "execution": {
     "iopub.execute_input": "2023-02-09T08:54:21.877743Z",
     "iopub.status.busy": "2023-02-09T08:54:21.877391Z",
     "iopub.status.idle": "2023-02-09T10:12:40.428322Z",
     "shell.execute_reply": "2023-02-09T10:12:40.427089Z"
    },
    "id": "l6f7VwRAIGOf",
    "jupyter": {
     "outputs_hidden": false
    },
    "outputId": "0af96251-a9d5-4297-ca5f-429fb6c08ad6",
    "papermill": {
     "duration": 4698.599337,
     "end_time": "2023-02-09T10:12:40.430853",
     "exception": false,
     "start_time": "2023-02-09T08:54:21.831516",
     "status": "completed"
    },
    "tags": []
   },
   "outputs": [
    {
     "name": "stdout",
     "output_type": "stream",
     "text": [
      "2023-02-09 08:54:26.059637: I tensorflow/stream_executor/cuda/cuda_gpu_executor.cc:937] successful NUMA node read from SysFS had negative value (-1), but there must be at least one NUMA node, so returning NUMA node zero\r\n",
      "2023-02-09 08:54:26.060534: I tensorflow/stream_executor/cuda/cuda_gpu_executor.cc:937] successful NUMA node read from SysFS had negative value (-1), but there must be at least one NUMA node, so returning NUMA node zero\r\n",
      "2023-02-09 08:54:26.061573: I tensorflow/stream_executor/cuda/cuda_gpu_executor.cc:937] successful NUMA node read from SysFS had negative value (-1), but there must be at least one NUMA node, so returning NUMA node zero\r\n",
      "2023-02-09 08:54:26.062348: I tensorflow/stream_executor/cuda/cuda_gpu_executor.cc:937] successful NUMA node read from SysFS had negative value (-1), but there must be at least one NUMA node, so returning NUMA node zero\r\n",
      "2023-02-09 08:54:26.063117: I tensorflow/stream_executor/cuda/cuda_gpu_executor.cc:937] successful NUMA node read from SysFS had negative value (-1), but there must be at least one NUMA node, so returning NUMA node zero\r\n",
      "2023-02-09 08:54:26.063919: I tensorflow/stream_executor/cuda/cuda_gpu_executor.cc:937] successful NUMA node read from SysFS had negative value (-1), but there must be at least one NUMA node, so returning NUMA node zero\r\n",
      "\u001b[38;5;2m✔ Created output directory: output\u001b[0m\r\n",
      "\u001b[38;5;4mℹ Saving to output directory: output\u001b[0m\r\n",
      "\u001b[38;5;4mℹ Using GPU: 0\u001b[0m\r\n",
      "\u001b[1m\r\n",
      "=========================== Initializing pipeline ===========================\u001b[0m\r\n",
      "[2023-02-09 08:54:33,809] [INFO] Set up nlp object from config\r\n",
      "[2023-02-09 08:54:33,821] [INFO] Pipeline: ['transformer', 'ner']\r\n",
      "[2023-02-09 08:54:33,826] [INFO] Created vocabulary\r\n",
      "[2023-02-09 08:54:33,828] [INFO] Finished initializing nlp object\r\n",
      "Downloading: 100%|██████████████████████████████| 481/481 [00:00<00:00, 529kB/s]\r\n",
      "Downloading: 100%|███████████████████████████| 878k/878k [00:00<00:00, 7.63MB/s]\r\n",
      "Downloading: 100%|███████████████████████████| 446k/446k [00:00<00:00, 4.91MB/s]\r\n",
      "Downloading: 100%|█████████████████████████| 1.29M/1.29M [00:00<00:00, 11.3MB/s]\r\n",
      "Downloading: 100%|███████████████████████████| 478M/478M [00:19<00:00, 26.2MB/s]\r\n",
      "Some weights of the model checkpoint at roberta-base were not used when initializing RobertaModel: ['lm_head.layer_norm.weight', 'lm_head.bias', 'lm_head.decoder.weight', 'lm_head.dense.bias', 'lm_head.dense.weight', 'lm_head.layer_norm.bias']\r\n",
      "- This IS expected if you are initializing RobertaModel from the checkpoint of a model trained on another task or with another architecture (e.g. initializing a BertForSequenceClassification model from a BertForPreTraining model).\r\n",
      "- This IS NOT expected if you are initializing RobertaModel from the checkpoint of a model that you expect to be exactly identical (initializing a BertForSequenceClassification model from a BertForSequenceClassification model).\r\n",
      "[2023-02-09 08:55:09,055] [INFO] Initialized pipeline components: ['transformer', 'ner']\r\n",
      "\u001b[38;5;2m✔ Initialized pipeline\u001b[0m\r\n",
      "\u001b[1m\r\n",
      "============================= Training pipeline =============================\u001b[0m\r\n",
      "\u001b[38;5;4mℹ Pipeline: ['transformer', 'ner']\u001b[0m\r\n",
      "\u001b[38;5;4mℹ Initial learn rate: 0.0\u001b[0m\r\n",
      "E    #       LOSS TRANS...  LOSS NER  ENTS_F  ENTS_P  ENTS_R  SCORE \r\n",
      "---  ------  -------------  --------  ------  ------  ------  ------\r\n",
      "  0       0        2343.80   1469.48    0.47    0.24    7.95    0.00\r\n",
      "  3     200      187153.43  63623.51   34.30   36.19   32.60    0.34\r\n",
      "  7     400       22588.23  21327.57   53.84   53.53   54.15    0.54\r\n",
      " 11     600        6457.48  18608.01   51.93   45.05   61.29    0.52\r\n",
      " 15     800        3610.38  17031.41   49.63   68.07   39.06    0.50\r\n",
      " 19    1000        1763.24  15859.60   48.00   48.31   47.70    0.48\r\n",
      " 23    1200         940.94  14687.21   49.80   59.42   42.86    0.50\r\n",
      " 26    1400       28354.12  13814.98   54.61   50.59   59.33    0.55\r\n",
      " 30    1600         627.01  13039.55   54.16   54.77   53.57    0.54\r\n",
      " 34    1800        2288.92  12862.49   52.79   59.65   47.35    0.53\r\n",
      " 38    2000         723.10  12369.39   50.24   63.72   41.47    0.50\r\n",
      " 42    2200         953.60  12000.22   51.75   59.00   46.08    0.52\r\n",
      " 46    2400       25895.69  11680.58   56.66   55.74   57.60    0.57\r\n",
      " 50    2600         574.21  10684.09   54.61   52.68   56.68    0.55\r\n",
      " 53    2800        1518.93   9410.93   56.75   62.34   52.07    0.57\r\n",
      " 57    3000       14987.39   8956.43   56.17   65.24   49.31    0.56\r\n",
      " 61    3200         399.71   7910.29   56.81   63.88   51.15    0.57\r\n",
      " 65    3400         244.52   6847.91   58.51   59.45   57.60    0.59\r\n",
      " 69    3600         379.97   5741.90   54.85   56.31   53.46    0.55\r\n",
      " 73    3800         173.70   4518.51   55.73   62.22   50.46    0.56\r\n",
      " 76    4000         171.90   3303.29   55.88   61.58   51.15    0.56\r\n",
      " 80    4200       24864.52   2707.18   54.56   65.22   46.89    0.55\r\n",
      " 84    4400         231.72   1713.78   54.98   62.68   48.96    0.55\r\n",
      " 88    4600         155.50   1105.20   54.44   60.59   49.42    0.54\r\n",
      " 92    4800         262.80    757.55   57.07   61.21   53.46    0.57\r\n",
      " 96    5000         296.22    488.49   55.43   62.74   49.65    0.55\r\n",
      "\u001b[38;5;2m✔ Saved pipeline to output directory\u001b[0m\r\n",
      "output/model-last\r\n"
     ]
    }
   ],
   "source": [
    "!python -m spacy train /kaggle/working/config.cfg --output ./output --paths.train ./train_data.spacy --paths.dev ./test_data.spacy --gpu-id 0"
   ]
  },
  {
   "cell_type": "code",
   "execution_count": 16,
   "id": "e42acf84",
   "metadata": {
    "_cell_guid": "b58a01f9-3d6d-4e05-8d9b-ba6f9778129e",
    "_uuid": "e776097b-e9d6-4e41-aaed-92d8cc8ccb31",
    "collapsed": false,
    "execution": {
     "iopub.execute_input": "2023-02-09T10:12:40.486751Z",
     "iopub.status.busy": "2023-02-09T10:12:40.485709Z",
     "iopub.status.idle": "2023-02-09T10:12:47.930057Z",
     "shell.execute_reply": "2023-02-09T10:12:47.928858Z"
    },
    "id": "0DPeAA_3IGOg",
    "jupyter": {
     "outputs_hidden": false
    },
    "papermill": {
     "duration": 7.474308,
     "end_time": "2023-02-09T10:12:47.932812",
     "exception": false,
     "start_time": "2023-02-09T10:12:40.458504",
     "status": "completed"
    },
    "tags": []
   },
   "outputs": [],
   "source": [
    "nlp = spacy.load('/kaggle/working/output/model-best')"
   ]
  },
  {
   "cell_type": "code",
   "execution_count": 17,
   "id": "1a06bd42",
   "metadata": {
    "_cell_guid": "acf438e2-9622-4a1f-89fb-831a3876e131",
    "_uuid": "7b7d066f-ea01-476f-bd74-929d94920897",
    "execution": {
     "iopub.execute_input": "2023-02-09T10:12:47.986357Z",
     "iopub.status.busy": "2023-02-09T10:12:47.986015Z",
     "iopub.status.idle": "2023-02-09T10:12:47.990707Z",
     "shell.execute_reply": "2023-02-09T10:12:47.989621Z"
    },
    "papermill": {
     "duration": 0.034001,
     "end_time": "2023-02-09T10:12:47.993151",
     "exception": false,
     "start_time": "2023-02-09T10:12:47.959150",
     "status": "completed"
    },
    "tags": []
   },
   "outputs": [],
   "source": [
    "txt = 'My name is Kashmira Sankhe. I work as a dentist. I completed my degree in Bachelors of Dental Surgery from Government dental College Mumbai. SKILLs : Dental Works'"
   ]
  },
  {
   "cell_type": "code",
   "execution_count": 18,
   "id": "5f768c5e",
   "metadata": {
    "_cell_guid": "e102911a-22bf-4221-8b84-f60f63038019",
    "_uuid": "193d0ae5-1d79-4fa4-9845-f1352614f986",
    "collapsed": false,
    "execution": {
     "iopub.execute_input": "2023-02-09T10:12:48.045043Z",
     "iopub.status.busy": "2023-02-09T10:12:48.044772Z",
     "iopub.status.idle": "2023-02-09T10:12:48.334121Z",
     "shell.execute_reply": "2023-02-09T10:12:48.331928Z"
    },
    "id": "IQmf7cmCSijQ",
    "jupyter": {
     "outputs_hidden": false
    },
    "outputId": "874364cd-9b3f-4388-f73b-6c389e777195",
    "papermill": {
     "duration": 0.318635,
     "end_time": "2023-02-09T10:12:48.337170",
     "exception": false,
     "start_time": "2023-02-09T10:12:48.018535",
     "status": "completed"
    },
    "tags": []
   },
   "outputs": [
    {
     "name": "stdout",
     "output_type": "stream",
     "text": [
      "NAME   =>   Kashmira Sankhe\n",
      "COLLEGE NAME   =>   Government dental College\n",
      "SKILLS   =>   Dental Works\n"
     ]
    }
   ],
   "source": [
    "doc = nlp(txt)\n",
    "for ent in doc.ents:\n",
    "    print(ent.label_.upper(),\"  =>  \", ent.text)"
   ]
  },
  {
   "cell_type": "code",
   "execution_count": 19,
   "id": "d4310819",
   "metadata": {
    "_cell_guid": "28bf82a6-c2c6-42be-88c8-167f884aab03",
    "_uuid": "11d2a148-5252-4081-ba22-94b67341f366",
    "collapsed": false,
    "execution": {
     "iopub.execute_input": "2023-02-09T10:12:48.390792Z",
     "iopub.status.busy": "2023-02-09T10:12:48.390501Z",
     "iopub.status.idle": "2023-02-09T10:12:52.516379Z",
     "shell.execute_reply": "2023-02-09T10:12:52.515382Z"
    },
    "id": "nUN2wOV5TG4z",
    "jupyter": {
     "outputs_hidden": false
    },
    "outputId": "21f8f6c7-6cf1-47f8-a5de-3778bbd464bb",
    "papermill": {
     "duration": 4.155153,
     "end_time": "2023-02-09T10:12:52.519152",
     "exception": false,
     "start_time": "2023-02-09T10:12:48.363999",
     "status": "completed"
    },
    "tags": []
   },
   "outputs": [],
   "source": [
    "NLP = spacy.load('/kaggle/working/output/model-last')"
   ]
  },
  {
   "cell_type": "code",
   "execution_count": 20,
   "id": "cb0f26a8",
   "metadata": {
    "execution": {
     "iopub.execute_input": "2023-02-09T10:12:52.572112Z",
     "iopub.status.busy": "2023-02-09T10:12:52.571808Z",
     "iopub.status.idle": "2023-02-09T10:12:53.768216Z",
     "shell.execute_reply": "2023-02-09T10:12:53.767250Z"
    },
    "papermill": {
     "duration": 1.225085,
     "end_time": "2023-02-09T10:12:53.770434",
     "exception": false,
     "start_time": "2023-02-09T10:12:52.545349",
     "status": "completed"
    },
    "tags": []
   },
   "outputs": [
    {
     "name": "stderr",
     "output_type": "stream",
     "text": [
      "/opt/conda/lib/python3.7/site-packages/spacy/util.py:877: UserWarning: [W095] Model 'en_core_web_sm' (3.3.0) was trained with spaCy v3.3 and may not be 100% compatible with the current version (3.5.0). If you see errors or degraded performance, download a newer compatible model or retrain your custom model with the current spaCy version. For more details and available updates, run: python -m spacy validate\n",
      "  warnings.warn(warn_msg)\n"
     ]
    },
    {
     "data": {
      "text/plain": [
       "'Software Tester\\nROBERT SMITHPhone: (123) 456 78 99 \\nEmail: info@qwikresume.com\\nWebsite: www.qwikresume.com\\nLinkedIn:\\nlinkedin.com/qwikresume\\nAddress: 1737 Marshville Road,\\nAlabama.\\nObjective\\nAround 7 years of software testing experience with thorough knowledge of project & software life \\ncycle methodologies. Led a testing team of 23 members which involved teams from both offshore \\nand onshore. Developed and implemented numerous testing guidelines and principles which have \\nled to successful collaborative projects. An accomplished software tester with professionalism and \\nenthusiasm. \\nSkills\\nSDLC Customer Service Scripting & Programming.\\nWork Experience\\nSoftware Tester\\nABC Corporation \\xa0\\xad\\xa0September 2007 – May 2013  \\n\\uf09fMaintained all the business requirements in Quality Center.\\n\\uf09fManaged, documented and controlled all the test scenarios, test cases, and expected results \\nin Quality Center.\\n\\uf09fTracked change request activities associated with software development, including \\nenhancements, defects, and documentation modifications using Quality Center.\\n\\uf09fWrote QTP scripts from scratch using VB Script to automate the functional tests and utilized \\nvarious checkpoints in the script.\\n\\uf09fPrepared the traceability matrix to make sure all the requirements are adequately covered \\nAttended Bug Scrub Agile meetings every week.\\n\\uf09fInvolved in black box testing, functional testing, integration testing, system testing, data \\nintegrity testing, regression testing and end-to-end testing.\\n\\uf09fCollaborated with the Scrum Agile team and product owners to develop high-quality testing \\nsolutions.\\nSoftware Tester\\nABC Corporation \\xa0\\xad\\xa02003 – 2007 \\n\\uf09fThe purpose of this project is to implement an enhanced &quot;Michigan Hospital Market \\nProduct&quot; designed to meet the unique needs of hospitals, as employer groups, and \\nprovide the necessary flexibility and efficiency needed to manage customer-defined \\n&quot;domestic&quot; provider networks and a variety of tiered product design options.\\n\\uf09fThis is a Web Application developed for tracking the customer detail status.\\n\\uf09fThe MHMP web application is developed for the customer to view their online activity from the\\nparent level through the sub location level.\\n\\uf09fMHMP provides a flexible architecture that facilitates the creation of an interactive web site \\nwhere the customers can view Orders, Invoices, Customer Order Summary, Customer Detail \\nSummary, Inventory and View Reports.\\n\\uf09fResponsibilities Actively involved in performing functionality, unit and integration tests \\nDetected Defects, Communicated to the developers using Bug Reporting T ool and Tracking the\\nDefects using Quality Center Extensively used Quality Center for test.\\n© This Free Resume Template  is the copyright of Qwikresume.com . Usage\\nGuidelines'"
      ]
     },
     "execution_count": 20,
     "metadata": {},
     "output_type": "execute_result"
    }
   ],
   "source": [
    "import PyPDF2\n",
    "# Load the language model\n",
    "nlp = spacy.load(\"en_core_web_sm\")\n",
    "\n",
    "# Open the PDF file\n",
    "pdf_file = open(\"/kaggle/input/pdftest/software-tester-1565000935.pdf\", \"rb\")\n",
    "\n",
    "# Read the PDF file\n",
    "pdf_reader = PyPDF2.PdfReader(pdf_file)\n",
    "\n",
    "# Extract the text from the first page\n",
    "page = pdf_reader.pages[0]\n",
    "cv_text = page.extract_text ()\n",
    "cv_text"
   ]
  },
  {
   "cell_type": "code",
   "execution_count": 21,
   "id": "e758d163",
   "metadata": {
    "_cell_guid": "9de5f5d3-974c-413a-8c0f-db1eccecbab0",
    "_uuid": "78824431-0383-458b-ada5-026dd727878d",
    "collapsed": false,
    "execution": {
     "iopub.execute_input": "2023-02-09T10:12:53.827816Z",
     "iopub.status.busy": "2023-02-09T10:12:53.827456Z",
     "iopub.status.idle": "2023-02-09T10:12:53.834444Z",
     "shell.execute_reply": "2023-02-09T10:12:53.833311Z"
    },
    "id": "i8fgcdL3UQ-x",
    "jupyter": {
     "outputs_hidden": false
    },
    "papermill": {
     "duration": 0.038894,
     "end_time": "2023-02-09T10:12:53.836585",
     "exception": false,
     "start_time": "2023-02-09T10:12:53.797691",
     "status": "completed"
    },
    "tags": []
   },
   "outputs": [],
   "source": [
    "TXT = \"HR ADMINISTRATOR MARKETING ASSOCIATE HR ADMINISTRATOR Summary Dedicated Customer Service Manager with 15 years of experience in Hospitality and Customer Service Management Respected builder and leader of customer focused teams strives to instill a shared enthusiastic commitment to customer service Highlights Focused on customer satisfaction Team management Marketing savvy Conflict resolution techniques Training and development Skilled multi tasker Client relations specialist A omplishments Missouri DOT Supervisor Training Certification Certified by IHG in Customer Loyalty and Marketing by Segment Hilton Worldwide General Manager Training Certification A omplished Trainer for cross server hospitality systems such as Hilton OnQ Micros Opera PMS Fidelio OPERA Reservation System ORS Holidex Completed courses and seminars in customer service sales strategies inventory control loss prevention safety time management leadership and performance assessment Experience HR Administrator Marketing Associate HR Administrator Dec 2013 to Current Company Name City State Helps to develop policies directs and coordinates activities such as employment compensation labor relations benefits training and employee services Prepares employee separation notices and related documentation Keeps records of benefits plans participation such as insurance and pension plan personnel transactions such as hires promotions transfers performance reviews and terminations and employee statistics for government reporting Advises management in appropriate resolution of employee relations issues Administers benefits programs such as life health dental insurance pension plans vacation sick leave leave of absence and employee assistance Marketing Associate Designed and created marketing collateral for sales meetings trade shows and company executives Managed the in house advertising program consisting of print and media collateral pieces Assisted in the complete design and launch of the company s website in 2 months Created an official company page on Facebook to facilitate interaction with customers Analyzed ratings and programming features of competitors to evaluate the effectiveness of marketing strategies Advanced Medical Claims Analyst Mar 2012 to Dec 2013 Company Name City State Reviewed medical bills for the a uracy of the treatments tests and hospital stays prior to sanctioning the claims Trained to interpret the codes ICD 9 CPT and terminology commonly used in medical billing to fully understand the paperwork that is submitted by healthcare providers Required to have organizational and analytical skills as well as computer skills knowledge of medical terminology and procedures statistics billing standards data analysis and laws regarding medical billing Assistant General Manager Jun 2010 to Dec 2010 Company Name City State Performed duties including but not limited to budgeting and financial management a ounting human resources payroll and purchasing Established and maintained close working relationships with all departments of the hotel to ensure maximum operation productivity morale and guest service Handled daily operations and reported directly to the corporate office Hired and trained staff on overall objectives and goals with an emphasis on high customer service Marketing and Advertising working on public relations with the media government and local businesses and Chamber of Commerce Executive Support Marketing Assistant Jul 2007 to Jun 2010 Company Name City State Provided assistance to various department heads Executive Marketing Customer Service Human Resources Managed front end operations to ensure friendly and efficient transactions Ensured the swift resolution of customer issues to preserve customer loyalty while complying with company policies Exemplified the second to none customer service delivery in all interactions with customers and potential clients Reservation Front Office Manager Jun 2004 to Jul 2007 Company Name City State Owner Partner Dec 2001 to May 2004 Company Name City State Price Integrity Coordinator Aug 1999 to Dec 2001 Company Name City State Education N A Business Administration 1999 Jefferson College City State Business Administration Marketing Advertising High School Diploma College Prep studies 1998 Sainte Genevieve Senior High City State Awarded American Shrubel Leadership Scholarship to Jefferson College Skills A ounting ads advertising analytical skills benefits billing budgeting clients Customer Service data analysis delivery documentation employee relations financial management government relations Human Resources insurance labor relations layout Marketing marketing collateral medical billing medical terminology office organizational payroll performance reviews personnel policies posters presentations public relations purchasing reporting statistics website\""
   ]
  },
  {
   "cell_type": "code",
   "execution_count": 22,
   "id": "8fde4a7e",
   "metadata": {
    "_cell_guid": "c19f11d7-096b-459d-bbdd-b221fc713674",
    "_uuid": "270a70d8-6f1a-4dc7-bbfc-bf05a9b0ed82",
    "collapsed": false,
    "execution": {
     "iopub.execute_input": "2023-02-09T10:12:53.890636Z",
     "iopub.status.busy": "2023-02-09T10:12:53.890064Z",
     "iopub.status.idle": "2023-02-09T10:12:55.538575Z",
     "shell.execute_reply": "2023-02-09T10:12:55.536034Z"
    },
    "jupyter": {
     "outputs_hidden": false
    },
    "papermill": {
     "duration": 1.678512,
     "end_time": "2023-02-09T10:12:55.541726",
     "exception": false,
     "start_time": "2023-02-09T10:12:53.863214",
     "status": "completed"
    },
    "tags": []
   },
   "outputs": [
    {
     "name": "stdout",
     "output_type": "stream",
     "text": [
      "DESIGNATION   =>   Software Tester\n",
      "NAME   =>   ROBERT SMITHPhone\n"
     ]
    }
   ],
   "source": [
    "doc = NLP(cv_text)\n",
    "for ent in doc.ents:\n",
    "    print(ent.label_.upper(),\"  =>  \", ent.text)"
   ]
  },
  {
   "cell_type": "code",
   "execution_count": 23,
   "id": "ba1d820a",
   "metadata": {
    "_cell_guid": "cd7b47d0-842e-46d8-8c2a-932843b3f613",
    "_uuid": "b9067f8e-a9f4-4328-92d0-db08cc048f32",
    "collapsed": false,
    "execution": {
     "iopub.execute_input": "2023-02-09T10:12:55.596205Z",
     "iopub.status.busy": "2023-02-09T10:12:55.595437Z",
     "iopub.status.idle": "2023-02-09T10:13:06.824278Z",
     "shell.execute_reply": "2023-02-09T10:13:06.822868Z"
    },
    "jupyter": {
     "outputs_hidden": false
    },
    "papermill": {
     "duration": 11.257813,
     "end_time": "2023-02-09T10:13:06.826956",
     "exception": false,
     "start_time": "2023-02-09T10:12:55.569143",
     "status": "completed"
    },
    "tags": []
   },
   "outputs": [
    {
     "name": "stdout",
     "output_type": "stream",
     "text": [
      "huggingface/tokenizers: The current process just got forked, after parallelism has already been used. Disabling parallelism to avoid deadlocks...\n",
      "To disable this warning, you can either:\n",
      "\t- Avoid using `tokenizers` before the fork if possible\n",
      "\t- Explicitly set the environment variable TOKENIZERS_PARALLELISM=(true | false)\n",
      "Collecting pyMuPDF\r\n",
      "  Downloading PyMuPDF-1.21.1-cp37-cp37m-manylinux_2_17_x86_64.manylinux2014_x86_64.whl (14.0 MB)\r\n",
      "\u001b[2K     \u001b[90m━━━━━━━━━━━━━━━━━━━━━━━━━━━━━━━━━━━━━━━━\u001b[0m \u001b[32m14.0/14.0 MB\u001b[0m \u001b[31m60.8 MB/s\u001b[0m eta \u001b[36m0:00:00\u001b[0m\r\n",
      "\u001b[?25hInstalling collected packages: pyMuPDF\r\n",
      "Successfully installed pyMuPDF-1.21.1\r\n",
      "\u001b[33mWARNING: Running pip as the 'root' user can result in broken permissions and conflicting behaviour with the system package manager. It is recommended to use a virtual environment instead: https://pip.pypa.io/warnings/venv\u001b[0m\u001b[33m\r\n",
      "\u001b[0m"
     ]
    }
   ],
   "source": [
    "!pip install pyMuPDF"
   ]
  },
  {
   "cell_type": "code",
   "execution_count": 24,
   "id": "74d1dd55",
   "metadata": {
    "_cell_guid": "cf50e377-fef5-4d6b-a1d2-7ec76b33e097",
    "_uuid": "09641537-0821-4a68-983a-55e9c8799803",
    "collapsed": false,
    "execution": {
     "iopub.execute_input": "2023-02-09T10:13:06.881944Z",
     "iopub.status.busy": "2023-02-09T10:13:06.881585Z",
     "iopub.status.idle": "2023-02-09T10:13:06.906915Z",
     "shell.execute_reply": "2023-02-09T10:13:06.906002Z"
    },
    "jupyter": {
     "outputs_hidden": false
    },
    "papermill": {
     "duration": 0.055016,
     "end_time": "2023-02-09T10:13:06.909005",
     "exception": false,
     "start_time": "2023-02-09T10:13:06.853989",
     "status": "completed"
    },
    "tags": []
   },
   "outputs": [],
   "source": [
    "import sys, fitz\n",
    "import re\n"
   ]
  },
  {
   "cell_type": "code",
   "execution_count": 25,
   "id": "1cc7912c",
   "metadata": {
    "_cell_guid": "12857a38-8d2d-4529-8fef-57a2019b1e4d",
    "_uuid": "b1ba6924-824f-4bd2-ade8-a5c4a576c03f",
    "collapsed": false,
    "execution": {
     "iopub.execute_input": "2023-02-09T10:13:06.964001Z",
     "iopub.status.busy": "2023-02-09T10:13:06.963154Z",
     "iopub.status.idle": "2023-02-09T10:13:06.970997Z",
     "shell.execute_reply": "2023-02-09T10:13:06.970142Z"
    },
    "jupyter": {
     "outputs_hidden": false
    },
    "papermill": {
     "duration": 0.037208,
     "end_time": "2023-02-09T10:13:06.973085",
     "exception": false,
     "start_time": "2023-02-09T10:13:06.935877",
     "status": "completed"
    },
    "tags": []
   },
   "outputs": [],
   "source": [
    "fname = '/kaggle/input/pdftest/software-tester-1565000935.pdf'\n",
    "doc = fitz.open(fname)"
   ]
  },
  {
   "cell_type": "code",
   "execution_count": 26,
   "id": "45393172",
   "metadata": {
    "_cell_guid": "251fa6e5-54da-4e66-a55f-9070d0176cb2",
    "_uuid": "a87b8391-2680-41d7-b05b-d053ce9cb95b",
    "collapsed": false,
    "execution": {
     "iopub.execute_input": "2023-02-09T10:13:07.027328Z",
     "iopub.status.busy": "2023-02-09T10:13:07.026302Z",
     "iopub.status.idle": "2023-02-09T10:13:07.038559Z",
     "shell.execute_reply": "2023-02-09T10:13:07.037709Z"
    },
    "jupyter": {
     "outputs_hidden": false
    },
    "papermill": {
     "duration": 0.04133,
     "end_time": "2023-02-09T10:13:07.040508",
     "exception": false,
     "start_time": "2023-02-09T10:13:06.999178",
     "status": "completed"
    },
    "tags": []
   },
   "outputs": [],
   "source": [
    "text = \" \"\n",
    "for page in doc:\n",
    "    text = text + str(page.get_text())"
   ]
  },
  {
   "cell_type": "code",
   "execution_count": 27,
   "id": "0d98753c",
   "metadata": {
    "_cell_guid": "d43bafe4-8965-4b83-9886-bda66f77d58d",
    "_uuid": "83346c5e-d9a7-4e3b-966f-2e94fa18ec7f",
    "collapsed": false,
    "execution": {
     "iopub.execute_input": "2023-02-09T10:13:07.094584Z",
     "iopub.status.busy": "2023-02-09T10:13:07.093716Z",
     "iopub.status.idle": "2023-02-09T10:13:07.098445Z",
     "shell.execute_reply": "2023-02-09T10:13:07.097604Z"
    },
    "jupyter": {
     "outputs_hidden": false
    },
    "papermill": {
     "duration": 0.033467,
     "end_time": "2023-02-09T10:13:07.100222",
     "exception": false,
     "start_time": "2023-02-09T10:13:07.066755",
     "status": "completed"
    },
    "tags": []
   },
   "outputs": [],
   "source": [
    "text = text.strip()"
   ]
  },
  {
   "cell_type": "code",
   "execution_count": 28,
   "id": "0858cce9",
   "metadata": {
    "_cell_guid": "05d076f6-0a55-4777-be52-6b51b0eefa6f",
    "_uuid": "8258d99b-43b9-4741-9a94-753c66d16e50",
    "collapsed": false,
    "execution": {
     "iopub.execute_input": "2023-02-09T10:13:07.153848Z",
     "iopub.status.busy": "2023-02-09T10:13:07.153574Z",
     "iopub.status.idle": "2023-02-09T10:13:07.157509Z",
     "shell.execute_reply": "2023-02-09T10:13:07.156537Z"
    },
    "jupyter": {
     "outputs_hidden": false
    },
    "papermill": {
     "duration": 0.033273,
     "end_time": "2023-02-09T10:13:07.159574",
     "exception": false,
     "start_time": "2023-02-09T10:13:07.126301",
     "status": "completed"
    },
    "tags": []
   },
   "outputs": [],
   "source": [
    "text = ' '.join(text.split())"
   ]
  },
  {
   "cell_type": "code",
   "execution_count": 29,
   "id": "e66ddc51",
   "metadata": {
    "_cell_guid": "f78af380-9428-4fcf-b45e-db37cbe8d705",
    "_uuid": "13064970-8c95-4587-b884-aeec6a00107e",
    "collapsed": false,
    "execution": {
     "iopub.execute_input": "2023-02-09T10:13:07.214476Z",
     "iopub.status.busy": "2023-02-09T10:13:07.213613Z",
     "iopub.status.idle": "2023-02-09T10:13:07.220241Z",
     "shell.execute_reply": "2023-02-09T10:13:07.219268Z"
    },
    "jupyter": {
     "outputs_hidden": false
    },
    "papermill": {
     "duration": 0.036473,
     "end_time": "2023-02-09T10:13:07.222231",
     "exception": false,
     "start_time": "2023-02-09T10:13:07.185758",
     "status": "completed"
    },
    "tags": []
   },
   "outputs": [
    {
     "data": {
      "text/plain": [
       "'Software Tester ROBERT SMITH Phone: (123) 456 78 99 Email: info@qwikresume.com Website: www.qwikresume.com LinkedIn: linkedin.com/qwikresume Address: 1737 Marshville Road, Alabama. Objective Around 7 years of software testing experience with thorough knowledge of project & software life cycle methodologies. Led a testing team of 23 members which involved teams from both offshore and onshore. Developed and implemented numerous testing guidelines and principles which have led to successful collaborative projects. An accomplished software tester with professionalism and enthusiasm. Skills SDLC Customer Service Scripting & Programming. Work Experience Software Tester ABC Corporation \\xad September 2007 – May 2013 \\uf09f Maintained all the business requirements in Quality Center. \\uf09f Managed, documented and controlled all the test scenarios, test cases, and expected results in Quality Center. \\uf09f Tracked change request activities associated with software development, including enhancements, defects, and documentation modifications using Quality Center. \\uf09f Wrote QTP scripts from scratch using VB Script to automate the functional tests and utilized various checkpoints in the script. \\uf09f Prepared the traceability matrix to make sure all the requirements are adequately covered Attended Bug Scrub Agile meetings every week. \\uf09f Involved in black box testing, functional testing, integration testing, system testing, data integrity testing, regression testing and end-to-end testing. \\uf09f Collaborated with the Scrum Agile team and product owners to develop high-quality testing solutions. Software Tester ABC Corporation \\xad 2003 – 2007 \\uf09f The purpose of this project is to implement an enhanced &quot;Michigan Hospital Market Product&quot; designed to meet the unique needs of hospitals, as employer groups, and provide the necessary flexibility and efficiency needed to manage customer-defined &quot;domestic&quot; provider networks and a variety of tiered product design options. \\uf09f This is a Web Application developed for tracking the customer detail status. \\uf09f The MHMP web application is developed for the customer to view their online activity from the parent level through the sub location level. \\uf09f MHMP provides a flexible architecture that facilitates the creation of an interactive web site where the customers can view Orders, Invoices, Customer Order Summary, Customer Detail Summary, Inventory and View Reports. \\uf09f Responsibilities Actively involved in performing functionality, unit and integration tests Detected Defects, Communicated to the developers using Bug Reporting Tool and Tracking the Defects using Quality Center Extensively used Quality Center for test. © This Free Resume Template is the copyright of Qwikresume.com. Usage Guidelines \\uf09f Tested Web Services and XML using SoapUI Developed test plans, test cases, test scenarios using the Quality Center and prepared test data and prepared Test Cases for GUI application Converted manual test scripts to automated test scripts in Quick Test. \\uf09f Executed the Batch Process scripts using the Test Batch Runner in QTP Analyzed the user requirements and interacted with system architect, developers and business users Participated in Walkthroughs and Defect report meetings periodically EnvironmentJava/J2EE, QuickTestProfessional(QTP), QualityCenter9.0, MSOffice, Oracle, JavaScript, XML, WebServices, SOAPUI, SQL, Unix. Education BS in Mathematics - (Osmania University - Hyderabad, Andhra Pradesh) © This Free Resume Template is the copyright of Qwikresume.com. Usage Guidelines'"
      ]
     },
     "execution_count": 29,
     "metadata": {},
     "output_type": "execute_result"
    }
   ],
   "source": [
    "text"
   ]
  },
  {
   "cell_type": "markdown",
   "id": "fd8e1678",
   "metadata": {
    "papermill": {
     "duration": 0.026508,
     "end_time": "2023-02-09T10:13:07.275834",
     "exception": false,
     "start_time": "2023-02-09T10:13:07.249326",
     "status": "completed"
    },
    "tags": []
   },
   "source": [
    "**This Function is used to clean data For now it's not Correct**"
   ]
  },
  {
   "cell_type": "code",
   "execution_count": 30,
   "id": "2309f734",
   "metadata": {
    "_cell_guid": "389a5111-a707-4335-b6fb-f6c83b052552",
    "_uuid": "681a6a67-292d-46b8-ab1d-2e4b2632bb7d",
    "collapsed": false,
    "execution": {
     "iopub.execute_input": "2023-02-09T10:13:07.329823Z",
     "iopub.status.busy": "2023-02-09T10:13:07.328914Z",
     "iopub.status.idle": "2023-02-09T10:13:09.312115Z",
     "shell.execute_reply": "2023-02-09T10:13:09.308601Z"
    },
    "jupyter": {
     "outputs_hidden": false
    },
    "papermill": {
     "duration": 2.013026,
     "end_time": "2023-02-09T10:13:09.314849",
     "exception": false,
     "start_time": "2023-02-09T10:13:07.301823",
     "status": "completed"
    },
    "tags": []
   },
   "outputs": [
    {
     "name": "stdout",
     "output_type": "stream",
     "text": [
      "DESIGNATION   =>   Software Tester\n",
      "NAME   =>   ROBERT SMITH\n"
     ]
    }
   ],
   "source": [
    "doc = NLP(text)\n",
    "for ent in doc.ents:\n",
    "    print(ent.label_.upper(),\"  =>  \", ent.text)"
   ]
  },
  {
   "cell_type": "code",
   "execution_count": 31,
   "id": "c1a32c9f",
   "metadata": {
    "execution": {
     "iopub.execute_input": "2023-02-09T10:13:09.371760Z",
     "iopub.status.busy": "2023-02-09T10:13:09.370871Z",
     "iopub.status.idle": "2023-02-09T10:13:09.378004Z",
     "shell.execute_reply": "2023-02-09T10:13:09.377051Z"
    },
    "papermill": {
     "duration": 0.036919,
     "end_time": "2023-02-09T10:13:09.379979",
     "exception": false,
     "start_time": "2023-02-09T10:13:09.343060",
     "status": "completed"
    },
    "tags": []
   },
   "outputs": [],
   "source": [
    "def cleanResume(resumeText):\n",
    "    resumeText = re.sub('http\\S+\\s*', ' ', resumeText)  # remove URLs\n",
    "    resumeText = re.sub('RT|cc', ' ', resumeText)  # remove RT and cc\n",
    "    resumeText = re.sub('#\\S+', '', resumeText)  # remove hashtags\n",
    "    resumeText = re.sub('@\\S+', '  ', resumeText)  # remove mentions\n",
    "    resumeText = re.sub('[%s]' % re.escape(\"\"\"!\"#$%&'()*+,-./:;<=>?@[\\]^_`{|}~\"\"\"), ' ', resumeText)  # remove punctuations\n",
    "    resumeText = re.sub(r'[^\\x00-\\x7f]',r' ', resumeText) \n",
    "    resumeText = re.sub('\\s+', ' ', resumeText)  # remove extra whitespace\n",
    "    return resumeText"
   ]
  },
  {
   "cell_type": "code",
   "execution_count": 32,
   "id": "58a423e6",
   "metadata": {
    "execution": {
     "iopub.execute_input": "2023-02-09T10:13:09.439757Z",
     "iopub.status.busy": "2023-02-09T10:13:09.438801Z",
     "iopub.status.idle": "2023-02-09T10:13:09.446641Z",
     "shell.execute_reply": "2023-02-09T10:13:09.445578Z"
    },
    "papermill": {
     "duration": 0.038248,
     "end_time": "2023-02-09T10:13:09.448651",
     "exception": false,
     "start_time": "2023-02-09T10:13:09.410403",
     "status": "completed"
    },
    "tags": []
   },
   "outputs": [
    {
     "data": {
      "text/plain": [
       "'Software Tester ROBE SMITH Phone 123 456 78 99 Email info Website www qwikresume com LinkedIn linkedin com qwikresume Address 1737 Marshville Road Alabama Objective Around 7 years of software testing experience with thorough knowledge of project software life cycle methodologies Led a testing team of 23 members which involved teams from both offshore and onshore Developed and implemented numerous testing guidelines and principles which have led to su essful collaborative projects An a omplished software tester with professionalism and enthusiasm Skills SDLC Customer Service Scripting Programming Work Experience Software Tester ABC Corporation September 2007 May 2013 Maintained all the business requirements in Quality Center Managed documented and controlled all the test scenarios test cases and expected results in Quality Center Tracked change request activities associated with software development including enhancements defects and documentation modifications using Quality Center Wrote QTP scripts from scratch using VB Script to automate the functional tests and utilized various checkpoints in the script Prepared the traceability matrix to make sure all the requirements are adequately covered Attended Bug Scrub Agile meetings every week Involved in black box testing functional testing integration testing system testing data integrity testing regression testing and end to end testing Collaborated with the Scrum Agile team and product owners to develop high quality testing solutions Software Tester ABC Corporation 2003 2007 The purpose of this project is to implement an enhanced quot Michigan Hospital Market Product quot designed to meet the unique needs of hospitals as employer groups and provide the necessary flexibility and efficiency needed to manage customer defined quot domestic quot provider networks and a variety of tiered product design options This is a Web Application developed for tracking the customer detail status The MHMP web application is developed for the customer to view their online activity from the parent level through the sub location level MHMP provides a flexible architecture that facilitates the creation of an interactive web site where the customers can view Orders Invoices Customer Order Summary Customer Detail Summary Inventory and View Reports Responsibilities Actively involved in performing functionality unit and integration tests Detected Defects Communicated to the developers using Bug Reporting Tool and Tracking the Defects using Quality Center Extensively used Quality Center for test This Free Resume Template is the copyright of Qwikresume com Usage Guidelines Tested Web Services and XML using SoapUI Developed test plans test cases test scenarios using the Quality Center and prepared test data and prepared Test Cases for GUI application Converted manual test scripts to automated test scripts in Quick Test Executed the Batch Process scripts using the Test Batch Runner in QTP Analyzed the user requirements and interacted with system architect developers and business users Participated in Walkthroughs and Defect report meetings periodically EnvironmentJava J2EE QuickTestProfessional QTP QualityCenter9 0 MSOffice Oracle JavaScript XML WebServices SOAPUI SQL Unix Education BS in Mathematics Osmania University Hyderabad Andhra Pradesh This Free Resume Template is the copyright of Qwikresume com Usage Guidelines'"
      ]
     },
     "execution_count": 32,
     "metadata": {},
     "output_type": "execute_result"
    }
   ],
   "source": [
    "\n",
    "cleanedResume = cleanResume(text)\n",
    "cleanedResume"
   ]
  },
  {
   "cell_type": "code",
   "execution_count": 33,
   "id": "5608bf34",
   "metadata": {
    "execution": {
     "iopub.execute_input": "2023-02-09T10:13:09.506471Z",
     "iopub.status.busy": "2023-02-09T10:13:09.505628Z",
     "iopub.status.idle": "2023-02-09T10:13:10.900423Z",
     "shell.execute_reply": "2023-02-09T10:13:10.898819Z"
    },
    "papermill": {
     "duration": 1.426647,
     "end_time": "2023-02-09T10:13:10.904237",
     "exception": false,
     "start_time": "2023-02-09T10:13:09.477590",
     "status": "completed"
    },
    "tags": []
   },
   "outputs": [
    {
     "name": "stdout",
     "output_type": "stream",
     "text": [
      "DESIGNATION   =>   Software Tester\n",
      "NAME   =>   ROBE SMITH\n"
     ]
    }
   ],
   "source": [
    "doc = NLP(cleanedResume)\n",
    "for ent in doc.ents:\n",
    "    print(ent.label_.upper(),\"  =>  \", ent.text)"
   ]
  },
  {
   "cell_type": "code",
   "execution_count": 34,
   "id": "7b6e3298",
   "metadata": {
    "_cell_guid": "0d60e31c-b4aa-40e5-a05c-9f4f03d97e0f",
    "_uuid": "f2d4a6ae-6900-4c44-ab4b-8f7bc33f05ee",
    "collapsed": false,
    "execution": {
     "iopub.execute_input": "2023-02-09T10:13:10.961863Z",
     "iopub.status.busy": "2023-02-09T10:13:10.960981Z",
     "iopub.status.idle": "2023-02-09T10:13:11.076635Z",
     "shell.execute_reply": "2023-02-09T10:13:11.075551Z"
    },
    "jupyter": {
     "outputs_hidden": false
    },
    "papermill": {
     "duration": 0.14668,
     "end_time": "2023-02-09T10:13:11.079464",
     "exception": false,
     "start_time": "2023-02-09T10:13:10.932784",
     "status": "completed"
    },
    "tags": []
   },
   "outputs": [],
   "source": [
    "config = nlp.config\n",
    "bytes_data = nlp.to_bytes()"
   ]
  },
  {
   "cell_type": "code",
   "execution_count": 35,
   "id": "b2881013",
   "metadata": {
    "execution": {
     "iopub.execute_input": "2023-02-09T10:13:11.139090Z",
     "iopub.status.busy": "2023-02-09T10:13:11.138561Z",
     "iopub.status.idle": "2023-02-09T10:13:11.703394Z",
     "shell.execute_reply": "2023-02-09T10:13:11.702311Z"
    },
    "papermill": {
     "duration": 0.597882,
     "end_time": "2023-02-09T10:13:11.706249",
     "exception": false,
     "start_time": "2023-02-09T10:13:11.108367",
     "status": "completed"
    },
    "tags": []
   },
   "outputs": [
    {
     "data": {
      "text/plain": [
       "<spacy.lang.en.English at 0x7fb11808ff50>"
      ]
     },
     "execution_count": 35,
     "metadata": {},
     "output_type": "execute_result"
    }
   ],
   "source": [
    "lang_cls = spacy.util.get_lang_class(config[\"nlp\"][\"lang\"])\n",
    "nlpmodel = lang_cls.from_config(config)\n",
    "nlpmodel.from_bytes(bytes_data)"
   ]
  },
  {
   "cell_type": "code",
   "execution_count": null,
   "id": "04549e2a",
   "metadata": {
    "papermill": {
     "duration": 0.026246,
     "end_time": "2023-02-09T10:13:11.759811",
     "exception": false,
     "start_time": "2023-02-09T10:13:11.733565",
     "status": "completed"
    },
    "tags": []
   },
   "outputs": [],
   "source": []
  }
 ],
 "metadata": {
  "kernelspec": {
   "display_name": "Python 3",
   "language": "python",
   "name": "python3"
  },
  "language_info": {
   "codemirror_mode": {
    "name": "ipython",
    "version": 3
   },
   "file_extension": ".py",
   "mimetype": "text/x-python",
   "name": "python",
   "nbconvert_exporter": "python",
   "pygments_lexer": "ipython3",
   "version": "3.7.12"
  },
  "papermill": {
   "default_parameters": {},
   "duration": 4830.773555,
   "end_time": "2023-02-09T10:13:15.480577",
   "environment_variables": {},
   "exception": null,
   "input_path": "__notebook__.ipynb",
   "output_path": "__notebook__.ipynb",
   "parameters": {},
   "start_time": "2023-02-09T08:52:44.707022",
   "version": "2.3.4"
  }
 },
 "nbformat": 4,
 "nbformat_minor": 5
}
